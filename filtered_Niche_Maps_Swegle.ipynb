{
 "cells": [
  {
   "cell_type": "code",
   "execution_count": 1,
   "id": "ad654ae8-7f17-4e1a-9b1d-357a30414469",
   "metadata": {},
   "outputs": [],
   "source": [
    "import pandas as pd\n",
    "from micom.workflows import GrowthResults\n"
   ]
  },
  {
   "cell_type": "code",
   "execution_count": 2,
   "id": "4ce2cdde-25ac-405a-89e0-9a3206e778b3",
   "metadata": {},
   "outputs": [],
   "source": [
    "annotations = pd.read_csv(\"/proj/gibbons/sswegle_micom/Res_Saves/annotations_swegle.csv\")\n",
    "exchanges = pd.read_csv(\"/proj/gibbons/sswegle_micom/Res_Saves/exchanges_swegle.csv\")\n",
    "growth_rates = pd.read_csv(\"/proj/gibbons/sswegle_micom/Res_Saves/growth_rates_swegle.csv\")\n",
    "growth_rates = pd.read_csv(\"/proj/gibbons/sswegle_micom/Res_Saves/growth_rates_swegle.csv\")\n",
    "res = GrowthResults(growth_rates, exchanges, annotations)"
   ]
  },
  {
   "cell_type": "markdown",
   "id": "fdcc2728-ab24-4881-b384-79d6d125854e",
   "metadata": {},
   "source": [
    "need to download the csv file from the niche map "
   ]
  },
  {
   "cell_type": "code",
   "execution_count": 3,
   "id": "8f0dbb40-1ecb-473d-a2a9-056063c3cedb",
   "metadata": {},
   "outputs": [],
   "source": [
    "from micom.viz import plot_exchanges_per_taxon\n",
    "#pl = plot_exchanges_per_taxon(res, filename = \"niche_swegle.html\")"
   ]
  },
  {
   "cell_type": "code",
   "execution_count": 4,
   "id": "a805ceb5-784b-416e-99e5-b5d9c8238eb1",
   "metadata": {},
   "outputs": [
    {
     "data": {
      "text/html": [
       "<div>\n",
       "<style scoped>\n",
       "    .dataframe tbody tr th:only-of-type {\n",
       "        vertical-align: middle;\n",
       "    }\n",
       "\n",
       "    .dataframe tbody tr th {\n",
       "        vertical-align: top;\n",
       "    }\n",
       "\n",
       "    .dataframe thead th {\n",
       "        text-align: right;\n",
       "    }\n",
       "</style>\n",
       "<table border=\"1\" class=\"dataframe\">\n",
       "  <thead>\n",
       "    <tr style=\"text-align: right;\">\n",
       "      <th></th>\n",
       "      <th>sample_id</th>\n",
       "      <th>taxon</th>\n",
       "      <th>TSNE 1</th>\n",
       "      <th>TSNE 2</th>\n",
       "    </tr>\n",
       "  </thead>\n",
       "  <tbody>\n",
       "    <tr>\n",
       "      <th>0</th>\n",
       "      <td>SRR15032078</td>\n",
       "      <td>Acidaminococcus</td>\n",
       "      <td>-38.647217</td>\n",
       "      <td>-21.171783</td>\n",
       "    </tr>\n",
       "    <tr>\n",
       "      <th>1</th>\n",
       "      <td>SRR15032078</td>\n",
       "      <td>Adlercreutzia</td>\n",
       "      <td>5.329486</td>\n",
       "      <td>-27.755490</td>\n",
       "    </tr>\n",
       "    <tr>\n",
       "      <th>2</th>\n",
       "      <td>SRR15032078</td>\n",
       "      <td>Akkermansia</td>\n",
       "      <td>12.995667</td>\n",
       "      <td>-89.470210</td>\n",
       "    </tr>\n",
       "    <tr>\n",
       "      <th>3</th>\n",
       "      <td>SRR15032078</td>\n",
       "      <td>Alistipes</td>\n",
       "      <td>39.536068</td>\n",
       "      <td>48.300327</td>\n",
       "    </tr>\n",
       "    <tr>\n",
       "      <th>4</th>\n",
       "      <td>SRR15032078</td>\n",
       "      <td>Anaerostipes</td>\n",
       "      <td>-50.379265</td>\n",
       "      <td>-47.870903</td>\n",
       "    </tr>\n",
       "    <tr>\n",
       "      <th>...</th>\n",
       "      <td>...</td>\n",
       "      <td>...</td>\n",
       "      <td>...</td>\n",
       "      <td>...</td>\n",
       "    </tr>\n",
       "    <tr>\n",
       "      <th>6307</th>\n",
       "      <td>SRR15032514</td>\n",
       "      <td>Roseburia</td>\n",
       "      <td>-21.737738</td>\n",
       "      <td>-31.961570</td>\n",
       "    </tr>\n",
       "    <tr>\n",
       "      <th>6308</th>\n",
       "      <td>SRR15032514</td>\n",
       "      <td>Ruminococcus</td>\n",
       "      <td>-29.471172</td>\n",
       "      <td>0.047363</td>\n",
       "    </tr>\n",
       "    <tr>\n",
       "      <th>6309</th>\n",
       "      <td>SRR15032514</td>\n",
       "      <td>Streptococcus</td>\n",
       "      <td>-0.677639</td>\n",
       "      <td>79.644540</td>\n",
       "    </tr>\n",
       "    <tr>\n",
       "      <th>6310</th>\n",
       "      <td>SRR15032514</td>\n",
       "      <td>Subdoligranulum</td>\n",
       "      <td>-15.105680</td>\n",
       "      <td>-48.566006</td>\n",
       "    </tr>\n",
       "    <tr>\n",
       "      <th>6311</th>\n",
       "      <td>SRR15032514</td>\n",
       "      <td>Veillonella</td>\n",
       "      <td>35.073055</td>\n",
       "      <td>-24.800290</td>\n",
       "    </tr>\n",
       "  </tbody>\n",
       "</table>\n",
       "<p>6312 rows × 4 columns</p>\n",
       "</div>"
      ],
      "text/plain": [
       "        sample_id            taxon     TSNE 1     TSNE 2\n",
       "0     SRR15032078  Acidaminococcus -38.647217 -21.171783\n",
       "1     SRR15032078    Adlercreutzia   5.329486 -27.755490\n",
       "2     SRR15032078      Akkermansia  12.995667 -89.470210\n",
       "3     SRR15032078        Alistipes  39.536068  48.300327\n",
       "4     SRR15032078     Anaerostipes -50.379265 -47.870903\n",
       "...           ...              ...        ...        ...\n",
       "6307  SRR15032514        Roseburia -21.737738 -31.961570\n",
       "6308  SRR15032514     Ruminococcus -29.471172   0.047363\n",
       "6309  SRR15032514    Streptococcus  -0.677639  79.644540\n",
       "6310  SRR15032514  Subdoligranulum -15.105680 -48.566006\n",
       "6311  SRR15032514      Veillonella  35.073055 -24.800290\n",
       "\n",
       "[6312 rows x 4 columns]"
      ]
     },
     "execution_count": 4,
     "metadata": {},
     "output_type": "execute_result"
    }
   ],
   "source": [
    "import pandas as pd\n",
    "import warnings\n",
    "\n",
    "warnings.simplefilter(\"ignore\")  # don't show warnings\n",
    "\n",
    "embedding = pd.read_csv(\"reduced.csv\")\n",
    "embedding"
   ]
  },
  {
   "cell_type": "code",
   "execution_count": 5,
   "id": "b2717b35-3feb-404c-a687-8fd247564b03",
   "metadata": {},
   "outputs": [
    {
     "data": {
      "image/png": "[encoded data removed]",
      "text/plain": [
       "<Figure size 432x288 with 1 Axes>"
      ]
     },
     "metadata": {
      "needs_background": "light"
     },
     "output_type": "display_data"
    },
    {
     "data": {
      "text/plain": [
       "<ggplot: (8744739299163)>"
      ]
     },
     "execution_count": 5,
     "metadata": {},
     "output_type": "execute_result"
    }
   ],
   "source": [
    "from plotnine import *\n",
    "theme_set(theme_minimal())\n",
    "\n",
    "pl = (\n",
    "    ggplot(embedding)\n",
    "    + aes(x=\"TSNE 1\", y=\"TSNE 2\", color=\"taxon\") \n",
    "    + geom_point()\n",
    ")\n",
    "pl"
   ]
  },
  {
   "cell_type": "code",
   "execution_count": null,
   "id": "a7135a7f-9412-4b6a-b7aa-739f18e0cc70",
   "metadata": {},
   "outputs": [],
   "source": [
    "interest = [\"Bacteroides\", \"Faecalibacterium\", \"Akkermansia\"]\n",
    "\n",
    "pl = (\n",
    "    ggplot(embedding)\n",
    "    + aes(x=\"TSNE 1\", y=\"TSNE 2\") \n",
    "    + geom_point(color=\"silver\")\n",
    "    + geom_point(data=embedding[embedding.taxon.isin(interest)], mapping=aes(color=\"taxon\"))\n",
    ")\n",
    "pl"
   ]
  },
  {
   "cell_type": "markdown",
   "id": "d16e8dc8-6aa2-415c-a070-258d602a193a",
   "metadata": {},
   "source": [
    "need to add in a metadata column "
   ]
  },
  {
   "cell_type": "code",
   "execution_count": null,
   "id": "1afcda9c-ce05-43df-9722-b61ee8c86580",
   "metadata": {},
   "outputs": [],
   "source": [
    "metadata = pd.read_csv(\"/proj/gibbons/sswegle_micom/All the Steps/metadata_swegle.csv\")\n",
    "metadata"
   ]
  },
  {
   "cell_type": "code",
   "execution_count": null,
   "id": "c19f4540-22e5-4248-ac91-324599e0edaf",
   "metadata": {},
   "outputs": [],
   "source": [
    "filtered_meta = metadata[metadata.time_point < 8]"
   ]
  },
  {
   "cell_type": "code",
   "execution_count": null,
   "id": "14319d2d-da1e-4a86-9225-183e01e4314c",
   "metadata": {},
   "outputs": [],
   "source": [
    "merged = embedding.merge(filtered_meta, on=\"sample_id\")"
   ]
  },
  {
   "cell_type": "code",
   "execution_count": null,
   "id": "15943a22-06b9-4cd6-8927-d18b59b8de00",
   "metadata": {},
   "outputs": [],
   "source": [
    "merged"
   ]
  },
  {
   "cell_type": "code",
   "execution_count": null,
   "id": "5f1ddbd1-b56f-48c2-9ee5-ff8565141df4",
   "metadata": {},
   "outputs": [],
   "source": [
    "pl = (\n",
    "    ggplot(merged)\n",
    "    + aes(x=\"TSNE 1\", y=\"TSNE 2\") \n",
    "    + geom_point(color=\"silver\")\n",
    "    + geom_point(data=merged[merged.taxon.isin(interest)], mapping=aes(color=\"taxon\"))\n",
    "    + facet_wrap(\"~ medium\")\n",
    "    + theme(figure_size=(8, 3))\n",
    ")\n",
    "pl"
   ]
  },
  {
   "cell_type": "code",
   "execution_count": null,
   "id": "ac2465be-f606-4a3d-99dc-9f85c2815133",
   "metadata": {},
   "outputs": [],
   "source": [
    "interest = [\"Prevotella\", \"Dietzia\", \"Butyrivibrio\", \"Citrobacter\", \"Bacteroides\", \"Bacillus\", \"Hespellia\", \"Clostridium XVIII\", \"Desulfovbrio\", \"Lactobacillus\"] "
   ]
  },
  {
   "cell_type": "code",
   "execution_count": null,
   "id": "284f82a1-8ee5-4a58-852f-854de9729644",
   "metadata": {},
   "outputs": [],
   "source": [
    "pl = (\n",
    "    ggplot(merged)\n",
    "    + aes(x=\"TSNE 1\", y=\"TSNE 2\") \n",
    "    + geom_point(color=\"silver\")\n",
    "    + geom_point(data=merged[merged.taxon.isin(interest)], mapping=aes(color=\"taxon\"))\n",
    "    + facet_wrap(\"~ medium\")\n",
    "    + theme(figure_size=(8, 3))\n",
    ")\n",
    "pl"
   ]
  },
  {
   "cell_type": "code",
   "execution_count": null,
   "id": "11845696-cfaf-4b61-9a3a-5ba0a49f5db9",
   "metadata": {},
   "outputs": [],
   "source": [
    "interest = [\"Prevotella\"] "
   ]
  },
  {
   "cell_type": "code",
   "execution_count": null,
   "id": "a179076e-56ab-4396-b08b-4238f44bb8e3",
   "metadata": {},
   "outputs": [],
   "source": [
    "pl = (\n",
    "    ggplot(merged)\n",
    "    + aes(x=\"TSNE 1\", y=\"TSNE 2\") \n",
    "    #+ geom_point(color=\"silver\")\n",
    "    + geom_point(data=merged[merged.taxon.isin(interest)], mapping=aes(color=\"taxon\"))\n",
    "    #+ facet_wrap(\"~ medium\")\n",
    "    + theme(figure_size=(8, 3))\n",
    ")\n",
    "pl"
   ]
  },
  {
   "cell_type": "code",
   "execution_count": null,
   "id": "02be2973-93eb-49f1-9c2e-246d97f3ce22",
   "metadata": {},
   "outputs": [],
   "source": [
    "interest = [\"Bacillus\", \"Lactobacillus\", \"Prevotella\"] "
   ]
  },
  {
   "cell_type": "code",
   "execution_count": null,
   "id": "35e2f348-9460-4f3e-bb8f-fe5967f711e5",
   "metadata": {},
   "outputs": [],
   "source": [
    "pl = (\n",
    "    ggplot(merged)\n",
    "    + aes(x=\"TSNE 1\", y=\"TSNE 2\") \n",
    "    #+ geom_point(color=\"silver\")\n",
    "    + geom_point(data=merged[merged.taxon.isin(interest)], mapping=aes(color=\"taxon\"))\n",
    "    + facet_wrap(\"~ medium\")\n",
    "    + theme(figure_size=(8, 3))\n",
    ")\n",
    "pl"
   ]
  },
  {
   "cell_type": "code",
   "execution_count": null,
   "id": "af092d89-a38d-4df2-afa1-519fd3f57821",
   "metadata": {},
   "outputs": [],
   "source": [
    "pl = (\n",
    "    ggplot(merged[merged.taxon.isin(interest)])\n",
    "    + aes(x=\"TSNE 1\", y=\"TSNE 2\", color=\"medium\", group = \"sample_id\") \n",
    "    + geom_line(alpha=0.5)\n",
    "    + geom_point()\n",
    "    + facet_wrap(\"~ taxon\")\n",
    "    + theme(figure_size=(10, 3))\n",
    ")\n",
    "pl"
   ]
  },
  {
   "cell_type": "code",
   "execution_count": null,
   "id": "d8b8cb52-5233-4dd9-b84c-66c42813baa4",
   "metadata": {},
   "outputs": [],
   "source": [
    "pl = (\n",
    "    ggplot(merged[merged.taxon.isin(interest)])\n",
    "    + aes(x=\"TSNE 1\", y=\"TSNE 2\", color=\"medium\") \n",
    "    + geom_line(alpha=0.5)\n",
    "    + geom_point()\n",
    "    + facet_wrap(\"~ taxon\")\n",
    "    + theme(figure_size=(10, 3))\n",
    ")\n",
    "pl"
   ]
  },
  {
   "cell_type": "code",
   "execution_count": null,
   "id": "1b1f83df-ad95-4d25-920d-87a84db37599",
   "metadata": {},
   "outputs": [],
   "source": [
    "sra_metadata_table = pd.read_csv(\"/proj/gibbons/2022_fiber_fermented_16S/data/sra_metadata.csv\")"
   ]
  },
  {
   "cell_type": "code",
   "execution_count": null,
   "id": "2c5b1661-8f91-4110-a094-87a503c91445",
   "metadata": {},
   "outputs": [],
   "source": [
    "sra_metadata_table.rename(columns={\"Run\": \"sample_id\"}, inplace=True)\n",
    "sra_metadata_table"
   ]
  },
  {
   "cell_type": "code",
   "execution_count": null,
   "id": "fa465988-a706-47af-aa0a-9a4a8211308b",
   "metadata": {},
   "outputs": [],
   "source": [
    "merged_with_host_id = merged.merge(sra_metadata_table, on=\"sample_id\")"
   ]
  },
  {
   "cell_type": "code",
   "execution_count": null,
   "id": "1f1d74b9-9ae9-4c25-90fc-ceb96aae77d3",
   "metadata": {},
   "outputs": [],
   "source": [
    "merged_with_host_id.to_csv(\"/proj/gibbons/sswegle_micom/All the Steps/merged_with_host_id.csv\")"
   ]
  },
  {
   "cell_type": "code",
   "execution_count": null,
   "id": "44a69210-5017-4db0-9feb-c7eb330a2732",
   "metadata": {},
   "outputs": [],
   "source": [
    "interest = [\"Prevotella\"]"
   ]
  },
  {
   "cell_type": "code",
   "execution_count": null,
   "id": "60d22241-412d-4c79-b641-cc6df101a6c0",
   "metadata": {},
   "outputs": [],
   "source": [
    "pl = (\n",
    "    ggplot(merged_with_host_id[merged_with_host_id.taxon.isin(interest)])\n",
    "    + aes(x=\"TSNE 1\", y=\"TSNE 2\", color=\"host_subject_id\") \n",
    "    + geom_line(alpha=0.5)\n",
    "    + geom_point()\n",
    "    + facet_wrap(\"~ medium\")\n",
    "    + theme(figure_size=(10, 3))\n",
    ")\n",
    "pl"
   ]
  },
  {
   "cell_type": "code",
   "execution_count": null,
   "id": "e0b1ec51-196f-4f55-9a60-13b7113d5a0b",
   "metadata": {},
   "outputs": [],
   "source": [
    "interest = [\"Lactobacillus\"]"
   ]
  },
  {
   "cell_type": "code",
   "execution_count": null,
   "id": "4e7aa39c-8d01-49bd-8be0-0c2b7201e8b2",
   "metadata": {},
   "outputs": [],
   "source": [
    "pl = (\n",
    "    ggplot(merged_with_host_id[merged_with_host_id.taxon.isin(interest)])\n",
    "    + aes(x=\"TSNE 1\", y=\"TSNE 2\", color=\"host_subject_id\") \n",
    "    + geom_line(alpha=0.5)\n",
    "    + geom_point()\n",
    "    + facet_wrap(\"~ medium\")\n",
    "    + theme(figure_size=(10, 3))\n",
    ")\n",
    "pl"
   ]
  },
  {
   "cell_type": "code",
   "execution_count": null,
   "id": "6b31f7c8-80c1-411d-9925-b83d0ccbd464",
   "metadata": {},
   "outputs": [],
   "source": [
    "merged_with_host_id[\"string_host_id\"] = merged_with_host_id[\"host_subject_id\"].apply(str)\n",
    "merged_with_host_id"
   ]
  },
  {
   "cell_type": "code",
   "execution_count": null,
   "id": "964a9755-0da8-43cf-9709-64253c38b94a",
   "metadata": {},
   "outputs": [],
   "source": [
    "interest = [\"Prevotella\"]"
   ]
  },
  {
   "cell_type": "code",
   "execution_count": null,
   "id": "7fd72caf-b082-40dd-993d-8dcd7a5b4404",
   "metadata": {},
   "outputs": [],
   "source": [
    "Prevotella_total = (\n",
    "    ggplot(merged_with_host_id[merged_with_host_id.taxon.isin(interest)])\n",
    "    + aes(x=\"TSNE 1\", y=\"TSNE 2\", color=\"string_host_id\") \n",
    "    #+ geom_line(alpha=0.5)\n",
    "    + geom_point()\n",
    "    + facet_wrap(\"~ medium\")\n",
    "    + theme(figure_size=(10, 3))\n",
    ")\n",
    "Prevotella_total\n",
    "\n",
    "#Prevotella_total.save(\"Prevotella_total_niche.png\")"
   ]
  },
  {
   "cell_type": "code",
   "execution_count": null,
   "id": "35c12aed-ba2f-4cc0-b216-a4ceceda1645",
   "metadata": {},
   "outputs": [],
   "source": [
    "Prevotella_total"
   ]
  },
  {
   "cell_type": "code",
   "execution_count": null,
   "id": "7d8c88f2-0414-463c-9458-88726f1b3347",
   "metadata": {},
   "outputs": [],
   "source": [
    "interest = [\"Prevotella\"]\n",
    "host_list = [\"8002\"]"
   ]
  },
  {
   "cell_type": "code",
   "execution_count": null,
   "id": "7801dc2c-355c-4636-9a18-5680a41cdb9e",
   "metadata": {},
   "outputs": [],
   "source": [
    "pl = (\n",
    "    ggplot(merged_with_host_id[merged_with_host_id.taxon.isin(interest)])\n",
    "    + aes(x=\"TSNE 1\", y=\"TSNE 2\") \n",
    "    + geom_line(alpha=0.5)\n",
    "    + geom_point(color = \"silver\")\n",
    "    + geom_point(data = merged_with_host_id[merged_with_host_id.string_host_id.isin(host_list)], mapping=aes(color=\"string_host_id\"))\n",
    "    + facet_wrap(\"~ medium\")\n",
    "    + theme(figure_size=(10, 3))\n",
    ")\n",
    "pl"
   ]
  },
  {
   "cell_type": "code",
   "execution_count": null,
   "id": "afc914bb-60d0-4609-bfa3-03d3ca7f46eb",
   "metadata": {},
   "outputs": [],
   "source": [
    "interest = [\"Prevotella\"]\n",
    "host_list = [\"8002\"]"
   ]
  },
  {
   "cell_type": "code",
   "execution_count": null,
   "id": "a10afaf2-68cd-491a-aab8-0470186ebb81",
   "metadata": {},
   "outputs": [],
   "source": [
    "Prevotella_8002 = (\n",
    "    ggplot(merged_with_host_id[merged_with_host_id.taxon.isin(interest)])\n",
    "    + aes(x=\"TSNE 1\", y=\"TSNE 2\") \n",
    "    #+ geom_line(alpha=0.5)\n",
    "    + geom_point(color = \"silver\")\n",
    "    + geom_point(data = merged_with_host_id[(merged_with_host_id.string_host_id.isin(host_list)) & (merged_with_host_id.taxon.isin(interest))], mapping=aes(color=\"string_host_id\"))\n",
    "    + facet_wrap(\"~ medium\")\n",
    "    + theme(figure_size=(10, 3))\n",
    ")\n",
    "\n",
    "#Prevotella_8002.save(\"Prevotella_8002.png\")"
   ]
  },
  {
   "cell_type": "code",
   "execution_count": null,
   "id": "2416ab8b-e1a9-428c-b05a-53b3a0e4e377",
   "metadata": {},
   "outputs": [],
   "source": [
    "Prevotella_8002"
   ]
  },
  {
   "cell_type": "code",
   "execution_count": null,
   "id": "13d0aa8f-91bd-4bf6-b3c0-20c8772e2cbe",
   "metadata": {},
   "outputs": [],
   "source": [
    "interest = [\"Prevotella\"]\n",
    "host_list = [\"8011\"]"
   ]
  },
  {
   "cell_type": "code",
   "execution_count": null,
   "id": "3566568d-28e8-456b-8b77-1647e7150bdd",
   "metadata": {},
   "outputs": [],
   "source": [
    "pl = (\n",
    "    ggplot(merged_with_host_id[merged_with_host_id.taxon.isin(interest)])\n",
    "    + aes(x=\"TSNE 1\", y=\"TSNE 2\") \n",
    "    #+ geom_line(alpha=0.5)\n",
    "    + geom_point(color = \"silver\")\n",
    "    + geom_point(data = merged_with_host_id[(merged_with_host_id.string_host_id.isin(host_list)) & (merged_with_host_id.taxon.isin(interest))], mapping=aes(color=\"string_host_id\"))\n",
    "    + facet_wrap(\"~ medium\")\n",
    "    + theme(figure_size=(10, 3))\n",
    ")\n",
    "pl"
   ]
  },
  {
   "cell_type": "code",
   "execution_count": null,
   "id": "e2a9a672-bb33-4549-9940-cc714679e485",
   "metadata": {},
   "outputs": [],
   "source": [
    "interest = [\"Prevotella\"]\n",
    "host_list = [\"8023\"]"
   ]
  },
  {
   "cell_type": "code",
   "execution_count": null,
   "id": "185c8e9a-ecbd-4d39-9a5b-5d6f71cb89a3",
   "metadata": {},
   "outputs": [],
   "source": [
    "Prevotella_8023 = (\n",
    "    ggplot(merged_with_host_id[merged_with_host_id.taxon.isin(interest)])\n",
    "    + aes(x=\"TSNE 1\", y=\"TSNE 2\") \n",
    "    #+ geom_line(alpha=0.5)\n",
    "    + geom_point(color = \"silver\")\n",
    "    + geom_point(data = merged_with_host_id[(merged_with_host_id.string_host_id.isin(host_list)) & (merged_with_host_id.taxon.isin(interest))], mapping=aes(color=\"string_host_id\"))\n",
    "    + facet_wrap(\"~ medium\")\n",
    "    + theme(figure_size=(10, 3))\n",
    ")\n",
    "\n",
    "#Prevotella_8023.save(\"Prevotella_8023.png\")"
   ]
  },
  {
   "cell_type": "code",
   "execution_count": null,
   "id": "ee3f43ac-561c-498f-bd79-99be4f51e0be",
   "metadata": {},
   "outputs": [],
   "source": [
    "Prevotella_8023"
   ]
  },
  {
   "cell_type": "code",
   "execution_count": null,
   "id": "1370c436-663f-4a57-b516-66b808782997",
   "metadata": {},
   "outputs": [],
   "source": [
    "interest = [\"Prevotella\"]\n",
    "host_list = [\"8004\"]"
   ]
  },
  {
   "cell_type": "code",
   "execution_count": null,
   "id": "ca6d345a-c391-4377-8479-00268349ee7c",
   "metadata": {},
   "outputs": [],
   "source": [
    "Prevotella_8004 = (\n",
    "    ggplot(merged_with_host_id[merged_with_host_id.taxon.isin(interest)])\n",
    "    + aes(x=\"TSNE 1\", y=\"TSNE 2\") \n",
    "    #+ geom_line(alpha=0.5)\n",
    "    + geom_point(color = \"silver\")\n",
    "    + geom_point(data = merged_with_host_id[(merged_with_host_id.string_host_id.isin(host_list)) & (merged_with_host_id.taxon.isin(interest))], mapping=aes(color=\"string_host_id\"))\n",
    "    + facet_wrap(\"~ medium\")\n",
    "    + theme(figure_size=(10, 3))\n",
    ")\n",
    "\n",
    "#Prevotella_8004.save(\"Prevotella_8004.png\")"
   ]
  },
  {
   "cell_type": "code",
   "execution_count": null,
   "id": "9d583bf7-a2d5-482f-824a-c1fcc76137be",
   "metadata": {},
   "outputs": [],
   "source": [
    "Prevotella_8004"
   ]
  },
  {
   "cell_type": "code",
   "execution_count": null,
   "id": "bb9d0d3e-12fb-4436-9940-8d5b0755d8e7",
   "metadata": {},
   "outputs": [],
   "source": [
    "interest = [\"Prevotella\"]\n",
    "host_list = [\"8006\"]"
   ]
  },
  {
   "cell_type": "code",
   "execution_count": null,
   "id": "d45aec69-1b82-4a07-8059-7194bf4eb797",
   "metadata": {},
   "outputs": [],
   "source": [
    "Prevotella_8006 = (\n",
    "    ggplot(merged_with_host_id[merged_with_host_id.taxon.isin(interest)])\n",
    "    + aes(x=\"TSNE 1\", y=\"TSNE 2\") \n",
    "    #+ geom_line(alpha=0.5)\n",
    "    + geom_point(color = \"silver\")\n",
    "    + geom_point(data = merged_with_host_id[(merged_with_host_id.string_host_id.isin(host_list)) & (merged_with_host_id.taxon.isin(interest))], mapping=aes(color=\"string_host_id\"))\n",
    "    + facet_wrap(\"~ medium\")\n",
    "    + theme(figure_size=(10, 3))\n",
    ")\n",
    "\n",
    "#Prevotella_8006.save(\"Prevotella_8006.png\")"
   ]
  },
  {
   "cell_type": "code",
   "execution_count": null,
   "id": "fcf4d115-baf7-4731-8d61-a15e60b02a29",
   "metadata": {},
   "outputs": [],
   "source": [
    "Prevotella_8006"
   ]
  },
  {
   "cell_type": "code",
   "execution_count": null,
   "id": "4d62a494-9ad0-4155-be72-8a654ab54b14",
   "metadata": {},
   "outputs": [],
   "source": [
    "interest = [\"Prevotella\"]\n",
    "host_list = [\"8018\"]"
   ]
  },
  {
   "cell_type": "code",
   "execution_count": null,
   "id": "76f84df3-634c-4ef8-9dec-b23338c8eb8b",
   "metadata": {},
   "outputs": [],
   "source": [
    "Prevotella_8018 = (\n",
    "    ggplot(merged_with_host_id[merged_with_host_id.taxon.isin(interest)])\n",
    "    + aes(x=\"TSNE 1\", y=\"TSNE 2\") \n",
    "    #+ geom_line(alpha=0.5)\n",
    "    + geom_point(color = \"silver\")\n",
    "    + geom_point(data = merged_with_host_id[(merged_with_host_id.string_host_id.isin(host_list)) & (merged_with_host_id.taxon.isin(interest))], mapping=aes(color=\"string_host_id\"))\n",
    "    + facet_wrap(\"~ medium\")\n",
    "    + theme(figure_size=(10, 3))\n",
    ")\n",
    "\n",
    "#Prevotella_8018.save(\"Prevotella_8018.png\")"
   ]
  },
  {
   "cell_type": "code",
   "execution_count": null,
   "id": "694db0eb-edca-4658-84cc-4cf9eaabc59a",
   "metadata": {},
   "outputs": [],
   "source": [
    "Prevotella_8018"
   ]
  },
  {
   "cell_type": "code",
   "execution_count": null,
   "id": "505188fe-9bcb-47d2-aff6-33491dd1eb7b",
   "metadata": {},
   "outputs": [],
   "source": [
    "interest = [\"Prevotella\"]\n",
    "host_list = [\"8021\"]"
   ]
  },
  {
   "cell_type": "code",
   "execution_count": null,
   "id": "67a53be3-71b9-478b-ae51-b889ce502c94",
   "metadata": {},
   "outputs": [],
   "source": [
    "pl = (\n",
    "    ggplot(merged_with_host_id[merged_with_host_id.taxon.isin(interest)])\n",
    "    + aes(x=\"TSNE 1\", y=\"TSNE 2\") \n",
    "    #+ geom_line(alpha=0.5)\n",
    "    + geom_point(color = \"silver\")\n",
    "    + geom_point(data = merged_with_host_id[(merged_with_host_id.string_host_id.isin(host_list)) & (merged_with_host_id.taxon.isin(interest))], mapping=aes(color=\"string_host_id\"))\n",
    "    + facet_wrap(\"~ medium\")\n",
    "    + theme(figure_size=(10, 3))\n",
    ")\n",
    "pl"
   ]
  },
  {
   "cell_type": "code",
   "execution_count": null,
   "id": "5af3d6b5-18f3-4dbe-b815-0ebf7b25c68b",
   "metadata": {},
   "outputs": [],
   "source": [
    "interest = [\"Prevotella\"]\n",
    "host_list = [\"8030\"]"
   ]
  },
  {
   "cell_type": "code",
   "execution_count": null,
   "id": "0fc9ab1a-7e7f-47dd-9d4b-bbe455e911c9",
   "metadata": {},
   "outputs": [],
   "source": [
    "Prevotella_8030 = (\n",
    "    ggplot(merged_with_host_id[merged_with_host_id.taxon.isin(interest)])\n",
    "    + aes(x=\"TSNE 1\", y=\"TSNE 2\") \n",
    "    #+ geom_line(alpha=0.5)\n",
    "    + geom_point(color = \"silver\")\n",
    "    + geom_point(data = merged_with_host_id[(merged_with_host_id.string_host_id.isin(host_list)) & (merged_with_host_id.taxon.isin(interest))], mapping=aes(color=\"string_host_id\"))\n",
    "    + facet_wrap(\"~ medium\")\n",
    "    + theme(figure_size=(10, 3))\n",
    ")\n",
    "\n",
    "#Prevotella_8030.save(\"Prevotella_8030.png\")"
   ]
  },
  {
   "cell_type": "code",
   "execution_count": null,
   "id": "33ae382b-e5ff-4a80-94b3-a6840ccedea3",
   "metadata": {},
   "outputs": [],
   "source": [
    "Prevotella_8030"
   ]
  },
  {
   "cell_type": "code",
   "execution_count": null,
   "id": "39419d13-f000-46b0-8b71-f5569773d036",
   "metadata": {},
   "outputs": [],
   "source": [
    "interest = [\"Prevotella\"]\n",
    "host_list = [\"8035\"]"
   ]
  },
  {
   "cell_type": "code",
   "execution_count": null,
   "id": "26f9382d-6ef7-4042-891d-f3afe505146c",
   "metadata": {},
   "outputs": [],
   "source": [
    "Prevotella_8035 = (\n",
    "    ggplot(merged_with_host_id[merged_with_host_id.taxon.isin(interest)])\n",
    "    + aes(x=\"TSNE 1\", y=\"TSNE 2\") \n",
    "    #+ geom_line(alpha=0.5)\n",
    "    + geom_point(color = \"silver\")\n",
    "    + geom_point(data = merged_with_host_id[(merged_with_host_id.string_host_id.isin(host_list)) & (merged_with_host_id.taxon.isin(interest))], mapping=aes(color=\"string_host_id\"))\n",
    "    + facet_wrap(\"~ medium\")\n",
    "    + theme(figure_size=(10, 3))\n",
    ")\n",
    "\n",
    "#Prevotella_8035.save(\"Prevotella_8035.png\")"
   ]
  },
  {
   "cell_type": "code",
   "execution_count": null,
   "id": "c455960b-3632-46d7-9ceb-078c293fba69",
   "metadata": {},
   "outputs": [],
   "source": [
    "Prevotella_8035"
   ]
  },
  {
   "cell_type": "code",
   "execution_count": null,
   "id": "401bb4d9-e6e0-43fb-8d2a-7a7a31d469c9",
   "metadata": {},
   "outputs": [],
   "source": [
    "interest = [\"Prevotella\"]\n",
    "host_list = [\"8036\"]"
   ]
  },
  {
   "cell_type": "code",
   "execution_count": null,
   "id": "05e274ab-d3cb-4b0f-a958-794296dc7dd4",
   "metadata": {},
   "outputs": [],
   "source": [
    "Prevotella_8036 = (\n",
    "    ggplot(merged_with_host_id[merged_with_host_id.taxon.isin(interest)])\n",
    "    + aes(x=\"TSNE 1\", y=\"TSNE 2\") \n",
    "    #+ geom_line(alpha=0.5)\n",
    "    + geom_point(color = \"silver\")\n",
    "    + geom_point(data = merged_with_host_id[(merged_with_host_id.string_host_id.isin(host_list)) & (merged_with_host_id.taxon.isin(interest))], mapping=aes(color=\"string_host_id\"))\n",
    "    + facet_wrap(\"~ medium\")\n",
    "    + theme(figure_size=(10, 3))\n",
    ")\n",
    "\n",
    "#Prevotella_8036.save(\"Prevotella_8036.png\")"
   ]
  },
  {
   "cell_type": "code",
   "execution_count": null,
   "id": "bb55dc17-5d93-4433-8db2-e04b1ab5478a",
   "metadata": {},
   "outputs": [],
   "source": [
    "Prevotella_8036"
   ]
  },
  {
   "cell_type": "code",
   "execution_count": null,
   "id": "43d74a55-f4f4-456d-aaeb-17dd87b63790",
   "metadata": {},
   "outputs": [],
   "source": [
    "interest = [\"Prevotella\"]\n",
    "host_list = [\"8016\"]"
   ]
  },
  {
   "cell_type": "code",
   "execution_count": null,
   "id": "e9f6f7f9-c16b-4a97-bd29-b2e22868fdac",
   "metadata": {},
   "outputs": [],
   "source": [
    "Prevotella_8016 = (\n",
    "    ggplot(merged_with_host_id[merged_with_host_id.taxon.isin(interest)])\n",
    "    + aes(x=\"TSNE 1\", y=\"TSNE 2\") \n",
    "    #+ geom_line(alpha=0.5)\n",
    "    + geom_point(color = \"silver\")\n",
    "    + geom_point(data = merged_with_host_id[(merged_with_host_id.string_host_id.isin(host_list)) & (merged_with_host_id.taxon.isin(interest))], mapping=aes(color=\"string_host_id\"))\n",
    "    + facet_wrap(\"~ medium\")\n",
    "    + theme(figure_size=(10, 3))\n",
    ")\n",
    "\n",
    "#Prevotella_8016.save(\"Prevotella_8016.png\")"
   ]
  },
  {
   "cell_type": "code",
   "execution_count": null,
   "id": "37fb375c-acdd-4590-b2e8-f9095585e918",
   "metadata": {},
   "outputs": [],
   "source": [
    "Prevotella_8016"
   ]
  },
  {
   "cell_type": "code",
   "execution_count": null,
   "id": "ae8543e6-835a-4a78-809d-f0713053b136",
   "metadata": {},
   "outputs": [],
   "source": [
    "interest = [\"Prevotella\"]\n",
    "host_list = [\"8017\"]"
   ]
  },
  {
   "cell_type": "code",
   "execution_count": null,
   "id": "d96505a9-8b3c-4bf4-9844-c0c5d745a65e",
   "metadata": {},
   "outputs": [],
   "source": [
    "Prevotella_8017 = (\n",
    "    ggplot(merged_with_host_id[merged_with_host_id.taxon.isin(interest)])\n",
    "    + aes(x=\"TSNE 1\", y=\"TSNE 2\") \n",
    "    #+ geom_line(alpha=0.5)\n",
    "    + geom_point(color = \"silver\")\n",
    "    + geom_point(data = merged_with_host_id[(merged_with_host_id.string_host_id.isin(host_list)) & (merged_with_host_id.taxon.isin(interest))], mapping=aes(color=\"string_host_id\"))\n",
    "    + facet_wrap(\"~ medium\")\n",
    "    + theme(figure_size=(10, 3))\n",
    ")\n",
    "\n",
    "#Prevotella_8017.save(\"Prevotella_8017.png\")"
   ]
  },
  {
   "cell_type": "code",
   "execution_count": null,
   "id": "361fa701-7688-4cc4-a25f-83ff4274f359",
   "metadata": {},
   "outputs": [],
   "source": [
    "Prevotella_8017"
   ]
  },
  {
   "cell_type": "markdown",
   "id": "a521af5d-2851-4d2a-aaf3-1e655c3df7b1",
   "metadata": {},
   "source": [
    "^ this data looks interesting because it is showing that niches can change and open on different diets \n",
    "- most of the time, we are seeing the niche expand for participants, but sometimes it stays the same or even goes away "
   ]
  },
  {
   "cell_type": "code",
   "execution_count": null,
   "id": "d197c7ca-c009-473a-9a5b-3da873c3d9e4",
   "metadata": {},
   "outputs": [],
   "source": [
    "interest = [\"Bacteroides\"]"
   ]
  },
  {
   "cell_type": "code",
   "execution_count": null,
   "id": "2a036f85-4c48-4ad7-a95e-224ca5a99043",
   "metadata": {},
   "outputs": [],
   "source": [
    "Bacteroides_total_niche = (\n",
    "    ggplot(merged_with_host_id[merged_with_host_id.taxon.isin(interest)])\n",
    "    + aes(x=\"TSNE 1\", y=\"TSNE 2\", color=\"string_host_id\") \n",
    "    #+ geom_line(alpha=0.5)\n",
    "    + geom_point()\n",
    "    + facet_wrap(\"~ medium\")\n",
    "    + theme(figure_size=(10, 3))\n",
    ")\n",
    "\n",
    "#Bacteroides_total_niche.save(\"Bacteroides_total_niche.png\")"
   ]
  },
  {
   "cell_type": "code",
   "execution_count": null,
   "id": "c741d2ba-c3ba-4a48-910e-d38aa15d669f",
   "metadata": {},
   "outputs": [],
   "source": [
    "Bacteroides_total_niche"
   ]
  },
  {
   "cell_type": "code",
   "execution_count": null,
   "id": "0cc03edd-607c-4b70-b505-9d45717854e0",
   "metadata": {},
   "outputs": [],
   "source": [
    "interest = [\"Bacteroides\"]\n",
    "host_list = [\"8029\"]"
   ]
  },
  {
   "cell_type": "code",
   "execution_count": null,
   "id": "903a72da-c079-4a71-9943-55df7682fa57",
   "metadata": {},
   "outputs": [],
   "source": [
    "Bacteroides_8029 = (\n",
    "    ggplot(merged_with_host_id[merged_with_host_id.taxon.isin(interest)])\n",
    "    + aes(x=\"TSNE 1\", y=\"TSNE 2\") \n",
    "    #+ geom_line(alpha=0.5)\n",
    "    + geom_point(color = \"silver\")\n",
    "    + geom_point(data = merged_with_host_id[(merged_with_host_id.string_host_id.isin(host_list)) & (merged_with_host_id.taxon.isin(interest))], mapping=aes(color=\"string_host_id\"))\n",
    "    + facet_wrap(\"~ medium\")\n",
    "    + theme(figure_size=(10, 3))\n",
    ")\n",
    "\n",
    "#Bacteroides_8029.save(\"Bacteroides_8029.png\")"
   ]
  },
  {
   "cell_type": "code",
   "execution_count": null,
   "id": "52f40d24-0971-4807-9782-86e4bb582b26",
   "metadata": {},
   "outputs": [],
   "source": [
    "Bacteroides_8029"
   ]
  },
  {
   "cell_type": "code",
   "execution_count": null,
   "id": "d17c0735-648a-4f66-86f8-6fba00bbf89a",
   "metadata": {},
   "outputs": [],
   "source": [
    "interest = [\"Bacteroides\"]\n",
    "host_list = [\"8001\"]"
   ]
  },
  {
   "cell_type": "code",
   "execution_count": null,
   "id": "2c431b1a-45f3-4796-b7f5-b7b028e4dd24",
   "metadata": {},
   "outputs": [],
   "source": [
    "Bacteroides_8001 = (\n",
    "    ggplot(merged_with_host_id[merged_with_host_id.taxon.isin(interest)])\n",
    "    + aes(x=\"TSNE 1\", y=\"TSNE 2\") \n",
    "    #+ geom_line(alpha=0.5)\n",
    "    + geom_point(color = \"silver\")\n",
    "    + geom_point(data = merged_with_host_id[(merged_with_host_id.string_host_id.isin(host_list)) & (merged_with_host_id.taxon.isin(interest))], mapping=aes(color=\"string_host_id\"))\n",
    "    + facet_wrap(\"~ medium\")\n",
    "    + theme(figure_size=(10, 3))\n",
    ")\n",
    "\n",
    "#Bacteroides_8001.save(\"Bacteroides_8001.png\")"
   ]
  },
  {
   "cell_type": "code",
   "execution_count": null,
   "id": "7b3a1d5d-4dfb-4a66-ac27-0b206a5ced5b",
   "metadata": {},
   "outputs": [],
   "source": [
    "Bacteroides_8001"
   ]
  },
  {
   "cell_type": "code",
   "execution_count": null,
   "id": "557a3273-9c43-4a4c-adaf-dad59465147b",
   "metadata": {},
   "outputs": [],
   "source": [
    "interest = [\"Bacteroides\"]\n",
    "host_list = [\"8041\"]"
   ]
  },
  {
   "cell_type": "code",
   "execution_count": null,
   "id": "e6ce1dce-7551-496e-9519-64da5483263b",
   "metadata": {},
   "outputs": [],
   "source": [
    "Bacteroides_8041 = (\n",
    "    ggplot(merged_with_host_id[merged_with_host_id.taxon.isin(interest)])\n",
    "    + aes(x=\"TSNE 1\", y=\"TSNE 2\") \n",
    "    #+ geom_line(alpha=0.5)\n",
    "    + geom_point(color = \"silver\")\n",
    "    + geom_point(data = merged_with_host_id[(merged_with_host_id.string_host_id.isin(host_list)) & (merged_with_host_id.taxon.isin(interest))], mapping=aes(color=\"string_host_id\"))\n",
    "    + facet_wrap(\"~ medium\")\n",
    "    + theme(figure_size=(10, 3))\n",
    ")\n",
    "\n",
    "#Bacteroides_8041.save(\"Bacteroides_8041.png\")"
   ]
  },
  {
   "cell_type": "code",
   "execution_count": null,
   "id": "de6a16fd-47d4-43f8-94e8-e2078c142a0c",
   "metadata": {},
   "outputs": [],
   "source": [
    "Bacteroides_8041"
   ]
  },
  {
   "cell_type": "code",
   "execution_count": null,
   "id": "35896e40-875e-4383-b1df-eb1b8c5b36d5",
   "metadata": {},
   "outputs": [],
   "source": [
    "interest = [\"Bacteroides\"]\n",
    "host_list = [\"8035\"]"
   ]
  },
  {
   "cell_type": "code",
   "execution_count": null,
   "id": "a95b5e2f-e228-474d-a56b-0af5e83d5dbe",
   "metadata": {},
   "outputs": [],
   "source": [
    "Bacteroides_8035 = (\n",
    "    ggplot(merged_with_host_id[merged_with_host_id.taxon.isin(interest)])\n",
    "    + aes(x=\"TSNE 1\", y=\"TSNE 2\") \n",
    "    #+ geom_line(alpha=0.5)\n",
    "    + geom_point(color = \"silver\")\n",
    "    + geom_point(data = merged_with_host_id[(merged_with_host_id.string_host_id.isin(host_list)) & (merged_with_host_id.taxon.isin(interest))], mapping=aes(color=\"string_host_id\"))\n",
    "    + facet_wrap(\"~ medium\")\n",
    "    + theme(figure_size=(10, 3))\n",
    ")\n",
    "\n",
    "#Bacteroides_8035.save(\"Bacteroides_8035.png\")"
   ]
  },
  {
   "cell_type": "code",
   "execution_count": null,
   "id": "e50260a2-612a-4722-8097-cfa19fef4743",
   "metadata": {},
   "outputs": [],
   "source": [
    "Bacteroides_8035"
   ]
  },
  {
   "cell_type": "code",
   "execution_count": null,
   "id": "5cf17c13-bde3-4410-824e-b520f00deb0a",
   "metadata": {},
   "outputs": [],
   "source": [
    "interest = [\"Bacteroides\"]\n",
    "host_list = [\"8034\"]"
   ]
  },
  {
   "cell_type": "code",
   "execution_count": null,
   "id": "60016e6d-31f9-4f06-88a0-4e08a6e6b355",
   "metadata": {},
   "outputs": [],
   "source": [
    "Bacteroides_8034 = (\n",
    "    ggplot(merged_with_host_id[merged_with_host_id.taxon.isin(interest)])\n",
    "    + aes(x=\"TSNE 1\", y=\"TSNE 2\") \n",
    "    #+ geom_line(alpha=0.5)\n",
    "    + geom_point(color = \"silver\")\n",
    "    + geom_point(data = merged_with_host_id[(merged_with_host_id.string_host_id.isin(host_list)) & (merged_with_host_id.taxon.isin(interest))], mapping=aes(color=\"string_host_id\"))\n",
    "    + facet_wrap(\"~ medium\")\n",
    "    + theme(figure_size=(10, 3))\n",
    ")\n",
    "\n",
    "#Bacteroides_8034.save(\"Bacteroides_8034.png\")"
   ]
  },
  {
   "cell_type": "code",
   "execution_count": null,
   "id": "81b137bf-8f5b-487e-800a-1785e2789b09",
   "metadata": {},
   "outputs": [],
   "source": [
    "Bacteroides_8034"
   ]
  },
  {
   "cell_type": "code",
   "execution_count": null,
   "id": "002fc269-b44f-4a85-9250-93d3101b0421",
   "metadata": {},
   "outputs": [],
   "source": [
    "interest = [\"Bacteroides\"]\n",
    "host_list = [\"8026\"]"
   ]
  },
  {
   "cell_type": "code",
   "execution_count": null,
   "id": "d4d7f098-4a91-4fca-b5be-7b896cf3ed76",
   "metadata": {},
   "outputs": [],
   "source": [
    "Bacteroides_8026 = (\n",
    "    ggplot(merged_with_host_id[merged_with_host_id.taxon.isin(interest)])\n",
    "    + aes(x=\"TSNE 1\", y=\"TSNE 2\") \n",
    "    #+ geom_line(alpha=0.5)\n",
    "    + geom_point(color = \"silver\")\n",
    "    + geom_point(data = merged_with_host_id[(merged_with_host_id.string_host_id.isin(host_list)) & (merged_with_host_id.taxon.isin(interest))], mapping=aes(color=\"string_host_id\"))\n",
    "    + facet_wrap(\"~ medium\")\n",
    "    + theme(figure_size=(10, 3))\n",
    ")\n",
    "\n",
    "#Bacteroides_8026.save(\"Bacteroides_8026.png\")"
   ]
  },
  {
   "cell_type": "code",
   "execution_count": null,
   "id": "1caf70b7-b6a9-4327-9c26-ce9f71250ea4",
   "metadata": {},
   "outputs": [],
   "source": [
    "Bacteroides_8026"
   ]
  },
  {
   "cell_type": "code",
   "execution_count": null,
   "id": "3c133119-3019-4be8-bc02-27a43e4f3332",
   "metadata": {},
   "outputs": [],
   "source": [
    "interest = [\"Bacteroides\"]\n",
    "host_list = [\"8027\"]"
   ]
  },
  {
   "cell_type": "code",
   "execution_count": null,
   "id": "f895ae47-a564-4836-b197-dd52157226a6",
   "metadata": {},
   "outputs": [],
   "source": [
    "Bacteroides_8027 = (\n",
    "    ggplot(merged_with_host_id[merged_with_host_id.taxon.isin(interest)])\n",
    "    + aes(x=\"TSNE 1\", y=\"TSNE 2\") \n",
    "    #+ geom_line(alpha=0.5)\n",
    "    + geom_point(color = \"silver\")\n",
    "    + geom_point(data = merged_with_host_id[(merged_with_host_id.string_host_id.isin(host_list)) & (merged_with_host_id.taxon.isin(interest))], mapping=aes(color=\"string_host_id\"))\n",
    "    + facet_wrap(\"~ medium\")\n",
    "    + theme(figure_size=(10, 3))\n",
    ")\n",
    "\n",
    "#Bacteroides_8027.save(\"Bacteroides_8027.png\")"
   ]
  },
  {
   "cell_type": "code",
   "execution_count": null,
   "id": "b59d9568-b3e2-4ea3-8108-92c6845f0c6e",
   "metadata": {},
   "outputs": [],
   "source": [
    "Bacteroides_8027"
   ]
  },
  {
   "cell_type": "code",
   "execution_count": null,
   "id": "64d2ac6a-423b-4d29-82ed-b84148eb2427",
   "metadata": {},
   "outputs": [],
   "source": [
    "interest = [\"Bacteroides\"]\n",
    "host_list = [\"8028\"]"
   ]
  },
  {
   "cell_type": "code",
   "execution_count": null,
   "id": "940b0861-2b32-470d-bafe-8faecbdc5eb8",
   "metadata": {},
   "outputs": [],
   "source": [
    "Bacteroides_8028 = (\n",
    "    ggplot(merged_with_host_id[merged_with_host_id.taxon.isin(interest)])\n",
    "    + aes(x=\"TSNE 1\", y=\"TSNE 2\") \n",
    "    #+ geom_line(alpha=0.5)\n",
    "    + geom_point(color = \"silver\")\n",
    "    + geom_point(data = merged_with_host_id[(merged_with_host_id.string_host_id.isin(host_list)) & (merged_with_host_id.taxon.isin(interest))], mapping=aes(color=\"string_host_id\"))\n",
    "    + facet_wrap(\"~ medium\")\n",
    "    + theme(figure_size=(10, 3))\n",
    ")\n",
    "\n",
    "#Bacteroides_8028.save(\"Bacteroides_8028.png\")"
   ]
  },
  {
   "cell_type": "code",
   "execution_count": null,
   "id": "bb9871e6-80e8-4614-aa61-7992da00f1c6",
   "metadata": {},
   "outputs": [],
   "source": [
    "Bacteroides_8028"
   ]
  },
  {
   "cell_type": "code",
   "execution_count": null,
   "id": "d8bec831-4073-4561-8c62-725c54f20ee8",
   "metadata": {},
   "outputs": [],
   "source": [
    "interest = [\"Bacteroides\"]\n",
    "host_list = [\"8025\"]"
   ]
  },
  {
   "cell_type": "code",
   "execution_count": null,
   "id": "6991a514-46b8-4f8c-8794-16f244b76d9b",
   "metadata": {},
   "outputs": [],
   "source": [
    "Bacteroides_8025 = (\n",
    "    ggplot(merged_with_host_id[merged_with_host_id.taxon.isin(interest)])\n",
    "    + aes(x=\"TSNE 1\", y=\"TSNE 2\") \n",
    "    #+ geom_line(alpha=0.5)\n",
    "    + geom_point(color = \"silver\")\n",
    "    + geom_point(data = merged_with_host_id[(merged_with_host_id.string_host_id.isin(host_list)) & (merged_with_host_id.taxon.isin(interest))], mapping=aes(color=\"string_host_id\"))\n",
    "    + facet_wrap(\"~ medium\")\n",
    "    + theme(figure_size=(10, 3))\n",
    ")\n",
    "\n",
    "#Bacteroides_8025.save(\"Bacteroides_8025.png\")"
   ]
  },
  {
   "cell_type": "code",
   "execution_count": null,
   "id": "a6bbf95f-05be-484f-b91c-27c8d91c2770",
   "metadata": {},
   "outputs": [],
   "source": [
    "Bacteroides_8025"
   ]
  },
  {
   "cell_type": "code",
   "execution_count": null,
   "id": "21b6d179-3c07-4b6d-b349-b0eee3983366",
   "metadata": {},
   "outputs": [],
   "source": [
    "interest = [\"Blautia\"]"
   ]
  },
  {
   "cell_type": "code",
   "execution_count": null,
   "id": "c54c1f48-1320-4310-ab0f-00803a80cb49",
   "metadata": {},
   "outputs": [],
   "source": [
    "pl = (\n",
    "    ggplot(merged_with_host_id[merged_with_host_id.taxon.isin(interest)])\n",
    "    + aes(x=\"TSNE 1\", y=\"TSNE 2\", color=\"string_host_id\") \n",
    "    #+ geom_line(alpha=0.5)\n",
    "    + geom_point()\n",
    "    + facet_wrap(\"~ medium\")\n",
    "    + theme(figure_size=(10, 3))\n",
    ")\n",
    "pl"
   ]
  },
  {
   "cell_type": "code",
   "execution_count": null,
   "id": "1289935a-1534-4aef-8051-510ae6cd1a0d",
   "metadata": {},
   "outputs": [],
   "source": [
    "interest = [\"Alistipes\"]"
   ]
  },
  {
   "cell_type": "code",
   "execution_count": null,
   "id": "60a198fa-b549-4938-8a51-46864eaee1fa",
   "metadata": {},
   "outputs": [],
   "source": [
    "Alistipes_total_niche = (\n",
    "    ggplot(merged_with_host_id[merged_with_host_id.taxon.isin(interest)])\n",
    "    + aes(x=\"TSNE 1\", y=\"TSNE 2\", color=\"string_host_id\") \n",
    "    #+ geom_line(alpha=0.5)\n",
    "    + geom_point()\n",
    "    + facet_wrap(\"~ medium\")\n",
    "    + theme(figure_size=(10, 3))\n",
    ")\n",
    "\n",
    "#Alistipes_total_niche.save(\"Alistipes_total_niche.png\")"
   ]
  },
  {
   "cell_type": "code",
   "execution_count": null,
   "id": "6f86798e-e239-49ac-a5f2-dcd40a73f687",
   "metadata": {},
   "outputs": [],
   "source": [
    "Alistipes_total_niche"
   ]
  },
  {
   "cell_type": "code",
   "execution_count": null,
   "id": "6c468640-2f4e-481a-a7a2-0aa05e8f7109",
   "metadata": {},
   "outputs": [],
   "source": [
    "interest = [\"Alistipes\"]\n",
    "host_list = [\"8007\"]"
   ]
  },
  {
   "cell_type": "code",
   "execution_count": null,
   "id": "e76faf64-9b5b-49e4-9305-9df53d07efd1",
   "metadata": {},
   "outputs": [],
   "source": [
    "Alistipes_8007 = (\n",
    "    ggplot(merged_with_host_id[merged_with_host_id.taxon.isin(interest)])\n",
    "    + aes(x=\"TSNE 1\", y=\"TSNE 2\") \n",
    "    #+ geom_line(alpha=0.5)\n",
    "    + geom_point(color = \"silver\")\n",
    "    + geom_point(data = merged_with_host_id[(merged_with_host_id.string_host_id.isin(host_list)) & (merged_with_host_id.taxon.isin(interest))], mapping=aes(color=\"string_host_id\"))\n",
    "    + facet_wrap(\"~ medium\")\n",
    "    + theme(figure_size=(10, 3))\n",
    ")\n",
    "\n",
    "#Alistipes_8007.save(\"Alistipes_8007.png\")"
   ]
  },
  {
   "cell_type": "code",
   "execution_count": null,
   "id": "1932debe-4d40-42a0-9170-83c2bfac13d9",
   "metadata": {},
   "outputs": [],
   "source": [
    "Alistipes_8007"
   ]
  },
  {
   "cell_type": "code",
   "execution_count": null,
   "id": "cebc22ca-6abb-4de1-95a9-c1f22eb62cac",
   "metadata": {},
   "outputs": [],
   "source": [
    "interest = [\"Alistipes\"]\n",
    "host_list = [\"8016\"]"
   ]
  },
  {
   "cell_type": "code",
   "execution_count": null,
   "id": "0751b4c2-34ba-4f4c-82a3-36117f60a44b",
   "metadata": {},
   "outputs": [],
   "source": [
    "Alistipes_8016 = (\n",
    "    ggplot(merged_with_host_id[merged_with_host_id.taxon.isin(interest)])\n",
    "    + aes(x=\"TSNE 1\", y=\"TSNE 2\") \n",
    "    #+ geom_line(alpha=0.5)\n",
    "    + geom_point(color = \"silver\")\n",
    "    + geom_point(data = merged_with_host_id[(merged_with_host_id.string_host_id.isin(host_list)) & (merged_with_host_id.taxon.isin(interest))], mapping=aes(color=\"string_host_id\"))\n",
    "    + facet_wrap(\"~ medium\")\n",
    "    + theme(figure_size=(10, 3))\n",
    ")\n",
    "\n",
    "#Alistipes_8016.save(\"Alistipes_8016.png\")"
   ]
  },
  {
   "cell_type": "code",
   "execution_count": null,
   "id": "a8629dc0-db4c-4cdd-a41e-e427abe1c562",
   "metadata": {},
   "outputs": [],
   "source": [
    "Alistipes_8016"
   ]
  },
  {
   "cell_type": "code",
   "execution_count": null,
   "id": "f5502719-0c3e-47f9-95f8-6ee5f30c56f8",
   "metadata": {},
   "outputs": [],
   "source": [
    "interest = [\"Alistipes\"]\n",
    "host_list = [\"8014\"]"
   ]
  },
  {
   "cell_type": "code",
   "execution_count": null,
   "id": "a5590914-746a-4dd3-8d76-9fa5a51e68af",
   "metadata": {},
   "outputs": [],
   "source": [
    "Alistipes_8014 = (\n",
    "    ggplot(merged_with_host_id[merged_with_host_id.taxon.isin(interest)])\n",
    "    + aes(x=\"TSNE 1\", y=\"TSNE 2\") \n",
    "    #+ geom_line(alpha=0.5)\n",
    "    + geom_point(color = \"silver\")\n",
    "    + geom_point(data = merged_with_host_id[(merged_with_host_id.string_host_id.isin(host_list)) & (merged_with_host_id.taxon.isin(interest))], mapping=aes(color=\"string_host_id\"))\n",
    "    + facet_wrap(\"~ medium\")\n",
    "    + theme(figure_size=(10, 3))\n",
    ")\n",
    "\n",
    "#Alistipes_8014.save(\"Alistipes_8014.png\")"
   ]
  },
  {
   "cell_type": "code",
   "execution_count": null,
   "id": "b7f5944b-108b-4a95-b6af-9095b367e2f0",
   "metadata": {},
   "outputs": [],
   "source": [
    "Alistipes_8014"
   ]
  },
  {
   "cell_type": "code",
   "execution_count": null,
   "id": "e87c51dd-be7e-429b-9ff0-9b1383417640",
   "metadata": {},
   "outputs": [],
   "source": [
    "interest = [\"Alistipes\"]\n",
    "host_list = [\"8017\"]"
   ]
  },
  {
   "cell_type": "code",
   "execution_count": null,
   "id": "45d30d7a-9d4a-4fc8-a020-cd926dfccaab",
   "metadata": {},
   "outputs": [],
   "source": [
    "Alistipes_8017 = (\n",
    "    ggplot(merged_with_host_id[merged_with_host_id.taxon.isin(interest)])\n",
    "    + aes(x=\"TSNE 1\", y=\"TSNE 2\") \n",
    "    #+ geom_line(alpha=0.5)\n",
    "    + geom_point(color = \"silver\")\n",
    "    + geom_point(data = merged_with_host_id[(merged_with_host_id.string_host_id.isin(host_list)) & (merged_with_host_id.taxon.isin(interest))], mapping=aes(color=\"string_host_id\"))\n",
    "    + facet_wrap(\"~ medium\")\n",
    "    + theme(figure_size=(10, 3))\n",
    ")\n",
    "\n",
    "#Alistipes_8017.save(\"Alistipes_8017.png\")"
   ]
  },
  {
   "cell_type": "code",
   "execution_count": null,
   "id": "31fbbca0-ee76-4663-a0b8-e395fa8baba8",
   "metadata": {},
   "outputs": [],
   "source": [
    "Alistipes_8017"
   ]
  },
  {
   "cell_type": "code",
   "execution_count": null,
   "id": "6396b3f5-cb86-4b8b-a699-08acaa35f1f5",
   "metadata": {},
   "outputs": [],
   "source": [
    "interest = [\"Alistipes\"]\n",
    "host_list = [\"8013\"]"
   ]
  },
  {
   "cell_type": "code",
   "execution_count": null,
   "id": "10c5a215-b00a-47c9-8ae0-f2a350b20074",
   "metadata": {},
   "outputs": [],
   "source": [
    "Alistipes_8013 = (\n",
    "    ggplot(merged_with_host_id[merged_with_host_id.taxon.isin(interest)])\n",
    "    + aes(x=\"TSNE 1\", y=\"TSNE 2\") \n",
    "    #+ geom_line(alpha=0.5)\n",
    "    + geom_point(color = \"silver\")\n",
    "    + geom_point(data = merged_with_host_id[(merged_with_host_id.string_host_id.isin(host_list)) & (merged_with_host_id.taxon.isin(interest))], mapping=aes(color=\"string_host_id\"))\n",
    "    + facet_wrap(\"~ medium\")\n",
    "    + theme(figure_size=(10, 3))\n",
    ")\n",
    "\n",
    "#Alistipes_8013.save(\"Alistipes_8013.png\")"
   ]
  },
  {
   "cell_type": "code",
   "execution_count": null,
   "id": "ee6c0a86-7673-43be-b5ff-2a4cceb75547",
   "metadata": {},
   "outputs": [],
   "source": [
    "Alistipes_8013"
   ]
  },
  {
   "cell_type": "code",
   "execution_count": null,
   "id": "3484619c-bd92-4e07-8298-a93ef969de0b",
   "metadata": {},
   "outputs": [],
   "source": [
    "interest = [\"Alistipes\"]\n",
    "host_list = [\"8036\"]"
   ]
  },
  {
   "cell_type": "code",
   "execution_count": null,
   "id": "6d6a581c-4b28-416f-ac87-caa9c28b1027",
   "metadata": {},
   "outputs": [],
   "source": [
    "Alistipes_8036 = (\n",
    "    ggplot(merged_with_host_id[merged_with_host_id.taxon.isin(interest)])\n",
    "    + aes(x=\"TSNE 1\", y=\"TSNE 2\") \n",
    "    #+ geom_line(alpha=0.5)\n",
    "    + geom_point(color = \"silver\")\n",
    "    + geom_point(data = merged_with_host_id[(merged_with_host_id.string_host_id.isin(host_list)) & (merged_with_host_id.taxon.isin(interest))], mapping=aes(color=\"string_host_id\"))\n",
    "    + facet_wrap(\"~ medium\")\n",
    "    + theme(figure_size=(10, 3))\n",
    ")\n",
    "\n",
    "#Alistipes_8036.save(\"Alistipes_8036.png\")"
   ]
  },
  {
   "cell_type": "code",
   "execution_count": null,
   "id": "b0790342-1687-4e63-b769-393913298f4d",
   "metadata": {},
   "outputs": [],
   "source": [
    "Alistipes_8036"
   ]
  },
  {
   "cell_type": "code",
   "execution_count": null,
   "id": "09737bb7-d19e-4374-9e10-9fdfbb72cc65",
   "metadata": {},
   "outputs": [],
   "source": [
    "interest = [\"Alistipes\"]\n",
    "host_list = [\"8037\"]"
   ]
  },
  {
   "cell_type": "code",
   "execution_count": null,
   "id": "00e26409-85f0-4af8-aa3c-705e876975d0",
   "metadata": {},
   "outputs": [],
   "source": [
    "Alistipes_8037 = (\n",
    "    ggplot(merged_with_host_id[merged_with_host_id.taxon.isin(interest)])\n",
    "    + aes(x=\"TSNE 1\", y=\"TSNE 2\") \n",
    "    #+ geom_line(alpha=0.5)\n",
    "    + geom_point(color = \"silver\")\n",
    "    + geom_point(data = merged_with_host_id[(merged_with_host_id.string_host_id.isin(host_list)) & (merged_with_host_id.taxon.isin(interest))], mapping=aes(color=\"string_host_id\"))\n",
    "    + facet_wrap(\"~ medium\")\n",
    "    + theme(figure_size=(10, 3))\n",
    ")\n",
    "\n",
    "#Alistipes_8037.save(\"Alistipes_8037.png\")"
   ]
  },
  {
   "cell_type": "code",
   "execution_count": null,
   "id": "14d8ccbe-b767-4ccc-8072-935e500b80c4",
   "metadata": {},
   "outputs": [],
   "source": [
    "Alistipes_8037"
   ]
  },
  {
   "cell_type": "code",
   "execution_count": null,
   "id": "eddb64c2-073c-434b-a762-428a0bba1931",
   "metadata": {},
   "outputs": [],
   "source": [
    "interest = [\"Alistipes\"]\n",
    "host_list = [\"8038\"]"
   ]
  },
  {
   "cell_type": "code",
   "execution_count": null,
   "id": "280b803a-b6da-4759-a210-e7da53aa8deb",
   "metadata": {},
   "outputs": [],
   "source": [
    "Alistipes_8038 = (\n",
    "    ggplot(merged_with_host_id[merged_with_host_id.taxon.isin(interest)])\n",
    "    + aes(x=\"TSNE 1\", y=\"TSNE 2\") \n",
    "    #+ geom_line(alpha=0.5)\n",
    "    + geom_point(color = \"silver\")\n",
    "    + geom_point(data = merged_with_host_id[(merged_with_host_id.string_host_id.isin(host_list)) & (merged_with_host_id.taxon.isin(interest))], mapping=aes(color=\"string_host_id\"))\n",
    "    + facet_wrap(\"~ medium\")\n",
    "    + theme(figure_size=(10, 3))\n",
    ")\n",
    "\n",
    "#Alistipes_8038.save(\"Alistipes_8038.png\")"
   ]
  },
  {
   "cell_type": "code",
   "execution_count": null,
   "id": "55ae3da6-b56d-4e7a-8107-dda2557a6bf7",
   "metadata": {},
   "outputs": [],
   "source": [
    "Alistipes_8038"
   ]
  },
  {
   "cell_type": "code",
   "execution_count": null,
   "id": "a2d203e8-7309-43a7-bd3f-0e1938b373de",
   "metadata": {},
   "outputs": [],
   "source": [
    "interest = [\"Alistipes\"]\n",
    "host_list = [\"8039\"]"
   ]
  },
  {
   "cell_type": "code",
   "execution_count": null,
   "id": "2ad9ad43-e2ac-40a2-8ebb-b4fe9b4b7194",
   "metadata": {},
   "outputs": [],
   "source": [
    "Alistipes_8039 = (\n",
    "    ggplot(merged_with_host_id[merged_with_host_id.taxon.isin(interest)])\n",
    "    + aes(x=\"TSNE 1\", y=\"TSNE 2\") \n",
    "    #+ geom_line(alpha=0.5)\n",
    "    + geom_point(color = \"silver\")\n",
    "    + geom_point(data = merged_with_host_id[(merged_with_host_id.string_host_id.isin(host_list)) & (merged_with_host_id.taxon.isin(interest))], mapping=aes(color=\"string_host_id\"))\n",
    "    + facet_wrap(\"~ medium\")\n",
    "    + theme(figure_size=(10, 3))\n",
    ")\n",
    "\n",
    "#Alistipes_8039.save(\"Alistipes_8039.png\")"
   ]
  },
  {
   "cell_type": "code",
   "execution_count": null,
   "id": "95f4e89c-bfd9-4dfa-b3c5-cfdb9037f35c",
   "metadata": {},
   "outputs": [],
   "source": [
    "Alistipes_8039"
   ]
  },
  {
   "cell_type": "code",
   "execution_count": null,
   "id": "997bf2b2-5d4a-4c9c-9bd2-35031a15be0c",
   "metadata": {},
   "outputs": [],
   "source": [
    "interest = [\"Paraprevotella\"]"
   ]
  },
  {
   "cell_type": "code",
   "execution_count": null,
   "id": "a1108d09-7737-4ef6-9769-84ae2e67c1a0",
   "metadata": {},
   "outputs": [],
   "source": [
    "pl = (\n",
    "    ggplot(merged_with_host_id[merged_with_host_id.taxon.isin(interest)])\n",
    "    + aes(x=\"TSNE 1\", y=\"TSNE 2\", color=\"string_host_id\") \n",
    "    #+ geom_line(alpha=0.5)\n",
    "    + geom_point()\n",
    "    + facet_wrap(\"~ medium\")\n",
    "    + theme(figure_size=(10, 3))\n",
    ")\n",
    "pl"
   ]
  },
  {
   "cell_type": "code",
   "execution_count": null,
   "id": "d8570f71-9312-492a-affd-660338ed48db",
   "metadata": {},
   "outputs": [],
   "source": [
    "interest = [\"Akkermansia\"]"
   ]
  },
  {
   "cell_type": "code",
   "execution_count": null,
   "id": "0a38452f-aa28-4963-a28f-097dfdb9ede8",
   "metadata": {},
   "outputs": [],
   "source": [
    "pl = (\n",
    "    ggplot(merged_with_host_id[merged_with_host_id.taxon.isin(interest)])\n",
    "    + aes(x=\"TSNE 1\", y=\"TSNE 2\", color=\"string_host_id\") \n",
    "    #+ geom_line(alpha=0.5)\n",
    "    + geom_point()\n",
    "    + facet_wrap(\"~ medium\")\n",
    "    + theme(figure_size=(10, 3))\n",
    ")\n",
    "pl"
   ]
  },
  {
   "cell_type": "code",
   "execution_count": null,
   "id": "e98ef259-7880-48e3-9263-9420735536f4",
   "metadata": {},
   "outputs": [],
   "source": [
    "interest = [\"Faecalibacterium\"]"
   ]
  },
  {
   "cell_type": "code",
   "execution_count": null,
   "id": "fec5a2d7-3033-4079-847b-d000984cdbe0",
   "metadata": {},
   "outputs": [],
   "source": [
    "pl = (\n",
    "    ggplot(merged_with_host_id[merged_with_host_id.taxon.isin(interest)])\n",
    "    + aes(x=\"TSNE 1\", y=\"TSNE 2\", color=\"string_host_id\") \n",
    "    #+ geom_line(alpha=0.5)\n",
    "    + geom_point()\n",
    "    + facet_wrap(\"~ medium\")\n",
    "    + theme(figure_size=(10, 3))\n",
    ")\n",
    "pl"
   ]
  },
  {
   "cell_type": "code",
   "execution_count": null,
   "id": "04b39a90-338d-46d8-b095-dc53ba3fa58c",
   "metadata": {},
   "outputs": [],
   "source": [
    "interest = [\"Roseburia\"]"
   ]
  },
  {
   "cell_type": "code",
   "execution_count": null,
   "id": "0b30a915-1bf2-4002-8d72-7b7c05ba700d",
   "metadata": {},
   "outputs": [],
   "source": [
    "pl = (\n",
    "    ggplot(merged_with_host_id[merged_with_host_id.taxon.isin(interest)])\n",
    "    + aes(x=\"TSNE 1\", y=\"TSNE 2\", color=\"string_host_id\") \n",
    "    #+ geom_line(alpha=0.5)\n",
    "    + geom_point()\n",
    "    + facet_wrap(\"~ medium\")\n",
    "    + theme(figure_size=(10, 3))\n",
    ")\n",
    "pl"
   ]
  },
  {
   "cell_type": "code",
   "execution_count": null,
   "id": "489992bb-4471-490f-a158-4116adedb2ee",
   "metadata": {},
   "outputs": [],
   "source": [
    "interest = [\"Ruminococcus\"]"
   ]
  },
  {
   "cell_type": "code",
   "execution_count": null,
   "id": "b105b73b-26a5-415c-b56a-13dfa81f86c3",
   "metadata": {},
   "outputs": [],
   "source": [
    "pl = (\n",
    "    ggplot(merged_with_host_id[merged_with_host_id.taxon.isin(interest)])\n",
    "    + aes(x=\"TSNE 1\", y=\"TSNE 2\", color=\"string_host_id\") \n",
    "    #+ geom_line(alpha=0.5)\n",
    "    + geom_point()\n",
    "    + facet_wrap(\"~ medium\")\n",
    "    + theme(figure_size=(10, 3))\n",
    ")\n",
    "pl"
   ]
  },
  {
   "cell_type": "code",
   "execution_count": null,
   "id": "5212d5a4-8a31-4462-8fea-1ca00822efef",
   "metadata": {},
   "outputs": [],
   "source": [
    "interest = [\"Akkermansia\", \"Alistipes\", \"Bacteroides\", \"Blautia\", \"Faecalibacterium\", \"Labchnospiracea incertae sedis\", \"Paraprevotella\", \"Prevotella\", \"Roseburia\", \"Ruminococcus\"]"
   ]
  },
  {
   "cell_type": "code",
   "execution_count": null,
   "id": "f73c5a9d-1600-491e-910f-3ebaec8e3293",
   "metadata": {},
   "outputs": [],
   "source": [
    "pl = (\n",
    "    ggplot(merged_with_host_id[merged_with_host_id.taxon.isin(interest)])\n",
    "    + aes(x=\"TSNE 1\", y=\"TSNE 2\", color=\"taxon\") \n",
    "    #+ geom_line(alpha=0.5)\n",
    "    + geom_point()\n",
    "    + facet_wrap(\"~ medium\")\n",
    "    + theme(figure_size=(10, 3))\n",
    ")\n",
    "pl"
   ]
  },
  {
   "cell_type": "code",
   "execution_count": null,
   "id": "12303968-0cdb-4c7f-84d4-e24fe9b4e18b",
   "metadata": {},
   "outputs": [],
   "source": [
    "meta = merged_with_host_id"
   ]
  },
  {
   "cell_type": "code",
   "execution_count": null,
   "id": "6d6325ff-3ba5-4982-9197-80c7f52cb7b8",
   "metadata": {},
   "outputs": [],
   "source": [
    "import pandas as pd\n",
    "from micom.viz import plot_exchanges_per_taxon\n",
    "from plotnine import *\n",
    "theme_set(theme_minimal())\n",
    "import warnings\n",
    "warnings.simplefilter(\"ignore\")  # don't show warnings\n",
    "import numpy as np\n",
    "\n",
    "meta = meta.sort_values(by=[\"host_subject_id\", \"time_point\"])"
   ]
  },
  {
   "cell_type": "code",
   "execution_count": null,
   "id": "7ce8e456-ce5e-4328-86dc-d5524c9a998e",
   "metadata": {},
   "outputs": [],
   "source": [
    "taxa = \"Akkermansia\"\n",
    "taxa_list = [taxa]\n",
    "individual=meta[\"host_subject_id\"].drop_duplicates().tolist()\n",
    "\n",
    "data = meta[(meta.host_subject_id.isin(individual) &\n",
    "                     meta.taxon.isin(taxa_list)) \n",
    "                    ]\n",
    "arg = meta[(meta.taxon.isin(taxa_list))]\n",
    "OA = meta[(meta.taxon.isin(taxa_list))]\n",
    "hosts=OA[\"host_subject_id\"].drop_duplicates().tolist()\n",
    "only_anaerostipes = OA.pivot(index=\"sample_id\", columns=\"host_subject_id\", values = \"time_point\")\n",
    "only_anaerostipes.dropna(axis=0, how=\"all\", inplace=True)\n",
    "\n",
    "#only_anaerostipes['T0101A'].dropna().sort_values(\"index\")\n",
    "\n",
    "only_anaerostipes = only_anaerostipes.sort_values(\"sample_id\")\n",
    "ggg = meta.drop_duplicates(subset=['sample_id'])\n",
    "\n",
    "ggg = meta.set_index('sample_id')\n",
    "\n",
    "for i in hosts:\n",
    "    listo = only_anaerostipes[i].dropna().sort_values(\"index\")\n",
    "    #print(type(listo.max()))\n",
    "    #toapp = pd.DataFrame({\"sample_id\":i+\"X\", \"host_subject_id\":i, \"val\": 20}, index=[0])\n",
    "    #toapp = toapp.set_index('sample_id')\n",
    "    #only_anaerostipes = pd.concat([only_anaerostipes, toapp], axis=0)\n",
    "    \n",
    "    #print(listo)\n",
    "    oldest = listo[listo ==listo[-1]].index[-1]\n",
    "    #print(oldest)\n",
    "\n",
    "    #print(ggg.loc[(ggg.index== oldest), \"medium\"])\n",
    "    oldest_diet = ggg.loc[(ggg.index== oldest), \"medium\"]\n",
    "    oldest_diet = oldest_diet.drop_duplicates().tolist()[0]\n",
    "    #make slice with ages, get sample_id of last age, put medium from that sample id for medium\n",
    "    \n",
    "\n",
    "    \n",
    "    conc = pd.DataFrame([{\"sample_id\":\"SRR9999999\", \"taxon\":taxa, \n",
    "                          \"host_subject_id\":i, \"medium\": oldest_diet,\n",
    "                          \"time_point\":20}])\n",
    "    \n",
    "                               \n",
    "    \n",
    "    OA = pd.concat([OA, conc], axis=0)\n",
    "\n",
    "OA = OA.sort_values(by=[\"host_subject_id\", \"time_point\"])\n",
    "#OA\n",
    "\n",
    "\n",
    "OA.loc[(OA.time_point == 20), \"time_point\"] = np.nan\n",
    "#len(oldest_diet)\n",
    "#ggg"
   ]
  },
  {
   "cell_type": "code",
   "execution_count": null,
   "id": "32ef97e9-ccdf-46e8-8edf-4463a9933399",
   "metadata": {},
   "outputs": [],
   "source": [
    "pl = (\n",
    "    ggplot(OA[OA.taxon.isin(taxa_list)])\n",
    "    + aes(x=\"TSNE 1\", y=\"TSNE 2\") #can add group=\"host\" for example\n",
    "\n",
    "    + geom_point(color=\"silver\")\n",
    "    + geom_point(data = OA[(OA.host_subject_id.isin(individual) &\n",
    "                             OA.taxon.isin(taxa_list)) \n",
    "                            ], mapping=aes(color='time_point'))\n",
    "    \n",
    "    \n",
    "    + geom_path(data = OA[(OA.host_subject_id.isin(individual) &\n",
    "                     OA.taxon.isin(taxa_list)) \n",
    "                    ], mapping=aes(color='time_point')) #, linetype=g))\n",
    "        + facet_wrap(\"~ medium\")\n",
    "    + theme(figure_size=(10, 3))\n",
    ")\n",
    "pl\n"
   ]
  }
 ],
 "metadata": {
  "kernelspec": {
   "display_name": "Python 3 (ipykernel)",
   "language": "python",
   "name": "python3"
  },
  "language_info": {
   "codemirror_mode": {
    "name": "ipython",
    "version": 3
   },
   "file_extension": ".py",
   "mimetype": "text/x-python",
   "name": "python",
   "nbconvert_exporter": "python",
   "pygments_lexer": "ipython3",
   "version": "3.8.13"
  }
 },
 "nbformat": 4,
 "nbformat_minor": 5
}
