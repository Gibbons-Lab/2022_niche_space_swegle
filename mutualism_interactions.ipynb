{
 "cells": [
  {
   "cell_type": "markdown",
   "id": "bd6676b2-8dec-4b0f-845b-6262cfd6c6ae",
   "metadata": {},
   "source": [
    "# Analyzing mutualistic interactions\n",
    "\n",
    "analyzing some mutulistic interactions"
   ]
  },
  {
   "cell_type": "code",
   "execution_count": 1,
   "id": "f2ea557a-98e7-4ff8-a5d6-ccd7a5ff4a86",
   "metadata": {},
   "outputs": [],
   "source": [
    "import pandas as pd"
   ]
  },
  {
   "cell_type": "code",
   "execution_count": 2,
   "id": "d44381d3-e2df-48e5-8417-4fded5ac091d",
   "metadata": {},
   "outputs": [],
   "source": [
    "exchanges = pd.read_csv(\"/proj/gibbons/sswegle_micom/Res_Saves/exhanges_swegle.csv\")"
   ]
  },
  {
   "cell_type": "markdown",
   "id": "b6732aa4-caf4-4845-a19d-c665e5057aeb",
   "metadata": {},
   "source": [
    "getting the counts for mutualistic interactions"
   ]
  },
  {
   "cell_type": "code",
   "execution_count": 3,
   "id": "2e912edb-6df2-4f17-bee0-eab333890909",
   "metadata": {},
   "outputs": [
    {
     "data": {
      "application/vnd.jupyter.widget-view+json": {
       "model_id": "427a4bef998b49c7ad95ff517f567964",
       "version_major": 2,
       "version_minor": 0
      },
      "text/plain": [
       "Output()"
      ]
     },
     "metadata": {},
     "output_type": "display_data"
    },
    {
     "data": {
      "text/html": [
       "<pre style=\"white-space:pre;overflow-x:auto;line-height:normal;font-family:Menlo,'DejaVu Sans Mono',consolas,'Courier New',monospace\"></pre>\n"
      ],
      "text/plain": []
     },
     "metadata": {},
     "output_type": "display_data"
    },
    {
     "data": {
      "text/html": [
       "<pre style=\"white-space:pre;overflow-x:auto;line-height:normal;font-family:Menlo,'DejaVu Sans Mono',consolas,'Courier New',monospace\">\n",
       "</pre>\n"
      ],
      "text/plain": [
       "\n"
      ]
     },
     "metadata": {},
     "output_type": "display_data"
    }
   ],
   "source": [
    "from interactions import interaction_count, draw_interactions\n",
    "\n",
    "counts = interaction_count(exchanges, kind=\"mutualism\")"
   ]
  },
  {
   "cell_type": "code",
   "execution_count": 4,
   "id": "39a222ec-0e7e-4386-b52f-cd16dbf2f7ac",
   "metadata": {},
   "outputs": [],
   "source": [
    "#counts.to_csv(\"mutualism_counts.csv\")"
   ]
  },
  {
   "cell_type": "code",
   "execution_count": 5,
   "id": "47bfaf63-0275-46f4-bf5d-0b9239dc92b0",
   "metadata": {},
   "outputs": [
    {
     "data": {
      "text/html": [
       "<div>\n",
       "<style scoped>\n",
       "    .dataframe tbody tr th:only-of-type {\n",
       "        vertical-align: middle;\n",
       "    }\n",
       "\n",
       "    .dataframe tbody tr th {\n",
       "        vertical-align: top;\n",
       "    }\n",
       "\n",
       "    .dataframe thead th {\n",
       "        text-align: right;\n",
       "    }\n",
       "</style>\n",
       "<table border=\"1\" class=\"dataframe\">\n",
       "  <thead>\n",
       "    <tr style=\"text-align: right;\">\n",
       "      <th></th>\n",
       "      <th>sample_id</th>\n",
       "      <th>counts</th>\n",
       "      <th>n_met</th>\n",
       "      <th>prevalence</th>\n",
       "      <th>first</th>\n",
       "      <th>second</th>\n",
       "    </tr>\n",
       "  </thead>\n",
       "  <tbody>\n",
       "    <tr>\n",
       "      <th>0</th>\n",
       "      <td>SRR15032078</td>\n",
       "      <td>21</td>\n",
       "      <td>77</td>\n",
       "      <td>0.272727</td>\n",
       "      <td>Akkermansia</td>\n",
       "      <td>Alistipes</td>\n",
       "    </tr>\n",
       "    <tr>\n",
       "      <th>1</th>\n",
       "      <td>SRR15032079</td>\n",
       "      <td>0</td>\n",
       "      <td>54</td>\n",
       "      <td>0.000000</td>\n",
       "      <td>Akkermansia</td>\n",
       "      <td>Alistipes</td>\n",
       "    </tr>\n",
       "    <tr>\n",
       "      <th>2</th>\n",
       "      <td>SRR15032080</td>\n",
       "      <td>0</td>\n",
       "      <td>60</td>\n",
       "      <td>0.000000</td>\n",
       "      <td>Akkermansia</td>\n",
       "      <td>Alistipes</td>\n",
       "    </tr>\n",
       "    <tr>\n",
       "      <th>3</th>\n",
       "      <td>SRR15032081</td>\n",
       "      <td>50</td>\n",
       "      <td>165</td>\n",
       "      <td>0.303030</td>\n",
       "      <td>Akkermansia</td>\n",
       "      <td>Alistipes</td>\n",
       "    </tr>\n",
       "    <tr>\n",
       "      <th>4</th>\n",
       "      <td>SRR15032082</td>\n",
       "      <td>24</td>\n",
       "      <td>79</td>\n",
       "      <td>0.303797</td>\n",
       "      <td>Akkermansia</td>\n",
       "      <td>Alistipes</td>\n",
       "    </tr>\n",
       "    <tr>\n",
       "      <th>...</th>\n",
       "      <td>...</td>\n",
       "      <td>...</td>\n",
       "      <td>...</td>\n",
       "      <td>...</td>\n",
       "      <td>...</td>\n",
       "      <td>...</td>\n",
       "    </tr>\n",
       "    <tr>\n",
       "      <th>1</th>\n",
       "      <td>SRR15032424</td>\n",
       "      <td>0</td>\n",
       "      <td>50</td>\n",
       "      <td>0.000000</td>\n",
       "      <td>Rothia</td>\n",
       "      <td>Cellulosilyticum</td>\n",
       "    </tr>\n",
       "    <tr>\n",
       "      <th>0</th>\n",
       "      <td>SRR15032414</td>\n",
       "      <td>0</td>\n",
       "      <td>50</td>\n",
       "      <td>0.000000</td>\n",
       "      <td>Rothia</td>\n",
       "      <td>Mogibacterium</td>\n",
       "    </tr>\n",
       "    <tr>\n",
       "      <th>1</th>\n",
       "      <td>SRR15032419</td>\n",
       "      <td>0</td>\n",
       "      <td>10</td>\n",
       "      <td>0.000000</td>\n",
       "      <td>Rothia</td>\n",
       "      <td>Mogibacterium</td>\n",
       "    </tr>\n",
       "    <tr>\n",
       "      <th>0</th>\n",
       "      <td>SRR15032419</td>\n",
       "      <td>0</td>\n",
       "      <td>10</td>\n",
       "      <td>0.000000</td>\n",
       "      <td>Cellulosilyticum</td>\n",
       "      <td>Mogibacterium</td>\n",
       "    </tr>\n",
       "    <tr>\n",
       "      <th>1</th>\n",
       "      <td>SRR15032424</td>\n",
       "      <td>0</td>\n",
       "      <td>50</td>\n",
       "      <td>0.000000</td>\n",
       "      <td>Cellulosilyticum</td>\n",
       "      <td>Mogibacterium</td>\n",
       "    </tr>\n",
       "  </tbody>\n",
       "</table>\n",
       "<p>459104 rows × 6 columns</p>\n",
       "</div>"
      ],
      "text/plain": [
       "      sample_id  counts  n_met  prevalence             first            second\n",
       "0   SRR15032078      21     77    0.272727       Akkermansia         Alistipes\n",
       "1   SRR15032079       0     54    0.000000       Akkermansia         Alistipes\n",
       "2   SRR15032080       0     60    0.000000       Akkermansia         Alistipes\n",
       "3   SRR15032081      50    165    0.303030       Akkermansia         Alistipes\n",
       "4   SRR15032082      24     79    0.303797       Akkermansia         Alistipes\n",
       "..          ...     ...    ...         ...               ...               ...\n",
       "1   SRR15032424       0     50    0.000000            Rothia  Cellulosilyticum\n",
       "0   SRR15032414       0     50    0.000000            Rothia     Mogibacterium\n",
       "1   SRR15032419       0     10    0.000000            Rothia     Mogibacterium\n",
       "0   SRR15032419       0     10    0.000000  Cellulosilyticum     Mogibacterium\n",
       "1   SRR15032424       0     50    0.000000  Cellulosilyticum     Mogibacterium\n",
       "\n",
       "[459104 rows x 6 columns]"
      ]
     },
     "execution_count": 5,
     "metadata": {},
     "output_type": "execute_result"
    }
   ],
   "source": [
    "counts"
   ]
  },
  {
   "cell_type": "code",
   "execution_count": 6,
   "id": "ad73e9d1-4be6-4610-8963-cf0c751c6ab7",
   "metadata": {},
   "outputs": [
    {
     "data": {
      "text/html": [
       "<div>\n",
       "<style scoped>\n",
       "    .dataframe tbody tr th:only-of-type {\n",
       "        vertical-align: middle;\n",
       "    }\n",
       "\n",
       "    .dataframe tbody tr th {\n",
       "        vertical-align: top;\n",
       "    }\n",
       "\n",
       "    .dataframe thead th {\n",
       "        text-align: right;\n",
       "    }\n",
       "</style>\n",
       "<table border=\"1\" class=\"dataframe\">\n",
       "  <thead>\n",
       "    <tr style=\"text-align: right;\">\n",
       "      <th></th>\n",
       "      <th>Unnamed: 0</th>\n",
       "      <th>sample_id</th>\n",
       "      <th>description</th>\n",
       "      <th>time_point</th>\n",
       "      <th>file</th>\n",
       "      <th>found_taxa</th>\n",
       "      <th>total_taxa</th>\n",
       "      <th>found_fraction</th>\n",
       "      <th>found_abundance_fraction</th>\n",
       "      <th>medium</th>\n",
       "    </tr>\n",
       "  </thead>\n",
       "  <tbody>\n",
       "    <tr>\n",
       "      <th>0</th>\n",
       "      <td>0</td>\n",
       "      <td>SRR15032078</td>\n",
       "      <td>High fiber diet</td>\n",
       "      <td>8</td>\n",
       "      <td>SRR15032078.pickle</td>\n",
       "      <td>24.0</td>\n",
       "      <td>37.0</td>\n",
       "      <td>0.648649</td>\n",
       "      <td>0.889586</td>\n",
       "      <td>high_fiber</td>\n",
       "    </tr>\n",
       "    <tr>\n",
       "      <th>1</th>\n",
       "      <td>1</td>\n",
       "      <td>SRR15032079</td>\n",
       "      <td>High fiber diet</td>\n",
       "      <td>4</td>\n",
       "      <td>SRR15032079.pickle</td>\n",
       "      <td>21.0</td>\n",
       "      <td>25.0</td>\n",
       "      <td>0.840000</td>\n",
       "      <td>0.942212</td>\n",
       "      <td>high_fiber</td>\n",
       "    </tr>\n",
       "    <tr>\n",
       "      <th>2</th>\n",
       "      <td>2</td>\n",
       "      <td>SRR15032080</td>\n",
       "      <td>High fermented food diet</td>\n",
       "      <td>3</td>\n",
       "      <td>SRR15032080.pickle</td>\n",
       "      <td>16.0</td>\n",
       "      <td>27.0</td>\n",
       "      <td>0.592593</td>\n",
       "      <td>0.855661</td>\n",
       "      <td>fermented</td>\n",
       "    </tr>\n",
       "    <tr>\n",
       "      <th>3</th>\n",
       "      <td>3</td>\n",
       "      <td>SRR15032081</td>\n",
       "      <td>High fermented food diet</td>\n",
       "      <td>2</td>\n",
       "      <td>SRR15032081.pickle</td>\n",
       "      <td>11.0</td>\n",
       "      <td>17.0</td>\n",
       "      <td>0.647059</td>\n",
       "      <td>0.898909</td>\n",
       "      <td>western</td>\n",
       "    </tr>\n",
       "    <tr>\n",
       "      <th>4</th>\n",
       "      <td>4</td>\n",
       "      <td>SRR15032082</td>\n",
       "      <td>High fiber diet</td>\n",
       "      <td>7</td>\n",
       "      <td>SRR15032082.pickle</td>\n",
       "      <td>23.0</td>\n",
       "      <td>33.0</td>\n",
       "      <td>0.696970</td>\n",
       "      <td>0.908204</td>\n",
       "      <td>high_fiber</td>\n",
       "    </tr>\n",
       "    <tr>\n",
       "      <th>...</th>\n",
       "      <td>...</td>\n",
       "      <td>...</td>\n",
       "      <td>...</td>\n",
       "      <td>...</td>\n",
       "      <td>...</td>\n",
       "      <td>...</td>\n",
       "      <td>...</td>\n",
       "      <td>...</td>\n",
       "      <td>...</td>\n",
       "      <td>...</td>\n",
       "    </tr>\n",
       "    <tr>\n",
       "      <th>306</th>\n",
       "      <td>306</td>\n",
       "      <td>SRR15032510</td>\n",
       "      <td>High fermented food diet</td>\n",
       "      <td>2</td>\n",
       "      <td>SRR15032510.pickle</td>\n",
       "      <td>21.0</td>\n",
       "      <td>28.0</td>\n",
       "      <td>0.750000</td>\n",
       "      <td>0.881483</td>\n",
       "      <td>western</td>\n",
       "    </tr>\n",
       "    <tr>\n",
       "      <th>307</th>\n",
       "      <td>307</td>\n",
       "      <td>SRR15032511</td>\n",
       "      <td>High fiber diet</td>\n",
       "      <td>6</td>\n",
       "      <td>SRR15032511.pickle</td>\n",
       "      <td>22.0</td>\n",
       "      <td>32.0</td>\n",
       "      <td>0.687500</td>\n",
       "      <td>0.799526</td>\n",
       "      <td>high_fiber</td>\n",
       "    </tr>\n",
       "    <tr>\n",
       "      <th>308</th>\n",
       "      <td>308</td>\n",
       "      <td>SRR15032512</td>\n",
       "      <td>High fermented food diet</td>\n",
       "      <td>7</td>\n",
       "      <td>SRR15032512.pickle</td>\n",
       "      <td>23.0</td>\n",
       "      <td>37.0</td>\n",
       "      <td>0.621622</td>\n",
       "      <td>0.843232</td>\n",
       "      <td>fermented</td>\n",
       "    </tr>\n",
       "    <tr>\n",
       "      <th>309</th>\n",
       "      <td>309</td>\n",
       "      <td>SRR15032513</td>\n",
       "      <td>High fermented food diet</td>\n",
       "      <td>6</td>\n",
       "      <td>SRR15032513.pickle</td>\n",
       "      <td>19.0</td>\n",
       "      <td>30.0</td>\n",
       "      <td>0.633333</td>\n",
       "      <td>0.839063</td>\n",
       "      <td>fermented</td>\n",
       "    </tr>\n",
       "    <tr>\n",
       "      <th>310</th>\n",
       "      <td>310</td>\n",
       "      <td>SRR15032514</td>\n",
       "      <td>High fiber diet</td>\n",
       "      <td>9</td>\n",
       "      <td>SRR15032514.pickle</td>\n",
       "      <td>24.0</td>\n",
       "      <td>37.0</td>\n",
       "      <td>0.648649</td>\n",
       "      <td>0.740106</td>\n",
       "      <td>western</td>\n",
       "    </tr>\n",
       "  </tbody>\n",
       "</table>\n",
       "<p>311 rows × 10 columns</p>\n",
       "</div>"
      ],
      "text/plain": [
       "     Unnamed: 0    sample_id               description  time_point  \\\n",
       "0             0  SRR15032078           High fiber diet           8   \n",
       "1             1  SRR15032079           High fiber diet           4   \n",
       "2             2  SRR15032080  High fermented food diet           3   \n",
       "3             3  SRR15032081  High fermented food diet           2   \n",
       "4             4  SRR15032082           High fiber diet           7   \n",
       "..          ...          ...                       ...         ...   \n",
       "306         306  SRR15032510  High fermented food diet           2   \n",
       "307         307  SRR15032511           High fiber diet           6   \n",
       "308         308  SRR15032512  High fermented food diet           7   \n",
       "309         309  SRR15032513  High fermented food diet           6   \n",
       "310         310  SRR15032514           High fiber diet           9   \n",
       "\n",
       "                   file  found_taxa  total_taxa  found_fraction  \\\n",
       "0    SRR15032078.pickle        24.0        37.0        0.648649   \n",
       "1    SRR15032079.pickle        21.0        25.0        0.840000   \n",
       "2    SRR15032080.pickle        16.0        27.0        0.592593   \n",
       "3    SRR15032081.pickle        11.0        17.0        0.647059   \n",
       "4    SRR15032082.pickle        23.0        33.0        0.696970   \n",
       "..                  ...         ...         ...             ...   \n",
       "306  SRR15032510.pickle        21.0        28.0        0.750000   \n",
       "307  SRR15032511.pickle        22.0        32.0        0.687500   \n",
       "308  SRR15032512.pickle        23.0        37.0        0.621622   \n",
       "309  SRR15032513.pickle        19.0        30.0        0.633333   \n",
       "310  SRR15032514.pickle        24.0        37.0        0.648649   \n",
       "\n",
       "     found_abundance_fraction      medium  \n",
       "0                    0.889586  high_fiber  \n",
       "1                    0.942212  high_fiber  \n",
       "2                    0.855661   fermented  \n",
       "3                    0.898909     western  \n",
       "4                    0.908204  high_fiber  \n",
       "..                        ...         ...  \n",
       "306                  0.881483     western  \n",
       "307                  0.799526  high_fiber  \n",
       "308                  0.843232   fermented  \n",
       "309                  0.839063   fermented  \n",
       "310                  0.740106     western  \n",
       "\n",
       "[311 rows x 10 columns]"
      ]
     },
     "execution_count": 6,
     "metadata": {},
     "output_type": "execute_result"
    }
   ],
   "source": [
    "metadata = pd.read_csv(\"/proj/gibbons/sswegle_micom/All the Steps/metadata_swegle.csv\")\n",
    "metadata"
   ]
  },
  {
   "cell_type": "code",
   "execution_count": 7,
   "id": "3c2b7e06-7de8-4bbf-a345-e8536b61e213",
   "metadata": {},
   "outputs": [],
   "source": [
    "filtered_meta = metadata[metadata.time_point < 8]"
   ]
  },
  {
   "cell_type": "code",
   "execution_count": 8,
   "id": "43c05a47-7e82-45ce-8338-87732dc0bf40",
   "metadata": {},
   "outputs": [],
   "source": [
    "merged_counts = counts.merge(filtered_meta, on=\"sample_id\")"
   ]
  },
  {
   "cell_type": "markdown",
   "id": "ccc8f3ac-2ac9-44fd-91d5-e4dac5a52451",
   "metadata": {},
   "source": [
    "counts.prevalence.describe()"
   ]
  },
  {
   "cell_type": "code",
   "execution_count": 9,
   "id": "cad7ced3-1504-4131-9159-9076903f8323",
   "metadata": {},
   "outputs": [
    {
     "data": {
      "text/html": [
       "<div>\n",
       "<style scoped>\n",
       "    .dataframe tbody tr th:only-of-type {\n",
       "        vertical-align: middle;\n",
       "    }\n",
       "\n",
       "    .dataframe tbody tr th {\n",
       "        vertical-align: top;\n",
       "    }\n",
       "\n",
       "    .dataframe thead th {\n",
       "        text-align: right;\n",
       "    }\n",
       "</style>\n",
       "<table border=\"1\" class=\"dataframe\">\n",
       "  <thead>\n",
       "    <tr style=\"text-align: right;\">\n",
       "      <th></th>\n",
       "      <th>first</th>\n",
       "      <th>second</th>\n",
       "      <th>prevalence</th>\n",
       "    </tr>\n",
       "  </thead>\n",
       "  <tbody>\n",
       "    <tr>\n",
       "      <th>0</th>\n",
       "      <td>Acidaminococcus</td>\n",
       "      <td>Actinomyces</td>\n",
       "      <td>0.000000</td>\n",
       "    </tr>\n",
       "    <tr>\n",
       "      <th>1</th>\n",
       "      <td>Acidaminococcus</td>\n",
       "      <td>Adlercreutzia</td>\n",
       "      <td>0.021624</td>\n",
       "    </tr>\n",
       "    <tr>\n",
       "      <th>2</th>\n",
       "      <td>Acidaminococcus</td>\n",
       "      <td>Anaerococcus</td>\n",
       "      <td>0.000000</td>\n",
       "    </tr>\n",
       "    <tr>\n",
       "      <th>3</th>\n",
       "      <td>Acidaminococcus</td>\n",
       "      <td>Anaerotruncus</td>\n",
       "      <td>0.011558</td>\n",
       "    </tr>\n",
       "    <tr>\n",
       "      <th>4</th>\n",
       "      <td>Acidaminococcus</td>\n",
       "      <td>Butyricimonas</td>\n",
       "      <td>0.017634</td>\n",
       "    </tr>\n",
       "    <tr>\n",
       "      <th>...</th>\n",
       "      <td>...</td>\n",
       "      <td>...</td>\n",
       "      <td>...</td>\n",
       "    </tr>\n",
       "    <tr>\n",
       "      <th>3481</th>\n",
       "      <td>Weissella</td>\n",
       "      <td>Succinatimonas</td>\n",
       "      <td>0.000000</td>\n",
       "    </tr>\n",
       "    <tr>\n",
       "      <th>3482</th>\n",
       "      <td>Weissella</td>\n",
       "      <td>Sutterella</td>\n",
       "      <td>0.012958</td>\n",
       "    </tr>\n",
       "    <tr>\n",
       "      <th>3483</th>\n",
       "      <td>Weissella</td>\n",
       "      <td>Terrisporobacter</td>\n",
       "      <td>0.013369</td>\n",
       "    </tr>\n",
       "    <tr>\n",
       "      <th>3484</th>\n",
       "      <td>Weissella</td>\n",
       "      <td>Varibaculum</td>\n",
       "      <td>0.000000</td>\n",
       "    </tr>\n",
       "    <tr>\n",
       "      <th>3485</th>\n",
       "      <td>Weissella</td>\n",
       "      <td>Veillonella</td>\n",
       "      <td>0.054242</td>\n",
       "    </tr>\n",
       "  </tbody>\n",
       "</table>\n",
       "<p>3486 rows × 3 columns</p>\n",
       "</div>"
      ],
      "text/plain": [
       "                first            second  prevalence\n",
       "0     Acidaminococcus       Actinomyces    0.000000\n",
       "1     Acidaminococcus     Adlercreutzia    0.021624\n",
       "2     Acidaminococcus      Anaerococcus    0.000000\n",
       "3     Acidaminococcus     Anaerotruncus    0.011558\n",
       "4     Acidaminococcus     Butyricimonas    0.017634\n",
       "...               ...               ...         ...\n",
       "3481        Weissella    Succinatimonas    0.000000\n",
       "3482        Weissella        Sutterella    0.012958\n",
       "3483        Weissella  Terrisporobacter    0.013369\n",
       "3484        Weissella       Varibaculum    0.000000\n",
       "3485        Weissella       Veillonella    0.054242\n",
       "\n",
       "[3486 rows x 3 columns]"
      ]
     },
     "execution_count": 9,
     "metadata": {},
     "output_type": "execute_result"
    }
   ],
   "source": [
    "means = counts.groupby([\"first\", \"second\"]).prevalence.mean().reset_index()\n",
    "means"
   ]
  },
  {
   "cell_type": "markdown",
   "id": "ee9f6487-c765-4b48-9b4e-54428c7c69f2",
   "metadata": {},
   "source": [
    "grouping by diet"
   ]
  },
  {
   "cell_type": "code",
   "execution_count": 10,
   "id": "d8e2759b-4f0e-4d6e-83a9-e58ba7dae75c",
   "metadata": {},
   "outputs": [],
   "source": [
    "western_counts = merged_counts[merged_counts.medium == \"western\"]"
   ]
  },
  {
   "cell_type": "code",
   "execution_count": 11,
   "id": "0d26cbd0-dd21-4d4a-afec-240874a92f1c",
   "metadata": {},
   "outputs": [],
   "source": [
    "fiber_counts = merged_counts[merged_counts.medium == \"high_fiber\"]"
   ]
  },
  {
   "cell_type": "code",
   "execution_count": 12,
   "id": "9f01714a-2604-410b-8386-ad16aaba09c6",
   "metadata": {},
   "outputs": [],
   "source": [
    "fermented_counts = merged_counts[merged_counts.medium == \"fermented\"]"
   ]
  },
  {
   "cell_type": "code",
   "execution_count": 13,
   "id": "f13e88fc-bbda-47d2-be47-9b318f1b5c54",
   "metadata": {},
   "outputs": [
    {
     "data": {
      "text/html": [
       "\n",
       "        <iframe\n",
       "            width=\"960\"\n",
       "            height=\"810\"\n",
       "            src=\"interactions.html\"\n",
       "            frameborder=\"0\"\n",
       "            allowfullscreen\n",
       "            \n",
       "        ></iframe>\n",
       "        "
      ],
      "text/plain": [
       "<IPython.lib.display.IFrame at 0x7f62a8524b20>"
      ]
     },
     "execution_count": 13,
     "metadata": {},
     "output_type": "execute_result"
    }
   ],
   "source": [
    "#from interactions import draw_interactions\n",
    "import pandas as pd\n",
    "\n",
    "draw_interactions(counts, min_prevalence=0.2, repel=200)"
   ]
  },
  {
   "cell_type": "code",
   "execution_count": 14,
   "id": "e509a576-203a-4da8-84da-c2da72f79986",
   "metadata": {},
   "outputs": [
    {
     "data": {
      "text/html": [
       "\n",
       "        <iframe\n",
       "            width=\"960\"\n",
       "            height=\"810\"\n",
       "            src=\"interactions.html\"\n",
       "            frameborder=\"0\"\n",
       "            allowfullscreen\n",
       "            \n",
       "        ></iframe>\n",
       "        "
      ],
      "text/plain": [
       "<IPython.lib.display.IFrame at 0x7f62a8524f70>"
      ]
     },
     "execution_count": 14,
     "metadata": {},
     "output_type": "execute_result"
    }
   ],
   "source": [
    "#from interactions import draw_interactions\n",
    "import pandas as pd\n",
    "\n",
    "draw_interactions(western_counts, min_prevalence=0.2, repel=200)"
   ]
  },
  {
   "cell_type": "code",
   "execution_count": 15,
   "id": "59b9919d-8bc3-49c8-a2b6-a1e1d9708f35",
   "metadata": {},
   "outputs": [
    {
     "data": {
      "text/html": [
       "\n",
       "        <iframe\n",
       "            width=\"960\"\n",
       "            height=\"810\"\n",
       "            src=\"interactions.html\"\n",
       "            frameborder=\"0\"\n",
       "            allowfullscreen\n",
       "            \n",
       "        ></iframe>\n",
       "        "
      ],
      "text/plain": [
       "<IPython.lib.display.IFrame at 0x7f62a85a7df0>"
      ]
     },
     "execution_count": 15,
     "metadata": {},
     "output_type": "execute_result"
    }
   ],
   "source": [
    "#from interactions import draw_interactions\n",
    "import pandas as pd\n",
    "\n",
    "draw_interactions(fiber_counts, min_prevalence=0.2, repel=200)"
   ]
  },
  {
   "cell_type": "code",
   "execution_count": 16,
   "id": "88ea30fc-3298-4b62-8104-3c169a05b34c",
   "metadata": {},
   "outputs": [
    {
     "data": {
      "text/html": [
       "\n",
       "        <iframe\n",
       "            width=\"960\"\n",
       "            height=\"810\"\n",
       "            src=\"interactions.html\"\n",
       "            frameborder=\"0\"\n",
       "            allowfullscreen\n",
       "            \n",
       "        ></iframe>\n",
       "        "
      ],
      "text/plain": [
       "<IPython.lib.display.IFrame at 0x7f62a85a7a60>"
      ]
     },
     "execution_count": 16,
     "metadata": {},
     "output_type": "execute_result"
    }
   ],
   "source": [
    "#from interactions import draw_interactions\n",
    "import pandas as pd\n",
    "\n",
    "draw_interactions(fermented_counts, min_prevalence=0.2, repel=200)"
   ]
  },
  {
   "cell_type": "code",
   "execution_count": 17,
   "id": "5fa6558a-d59b-4df5-9ded-93d4356a2e3b",
   "metadata": {},
   "outputs": [
    {
     "data": {
      "text/html": [
       "\n",
       "        <iframe\n",
       "            width=\"960\"\n",
       "            height=\"810\"\n",
       "            src=\"interactions.html\"\n",
       "            frameborder=\"0\"\n",
       "            allowfullscreen\n",
       "            \n",
       "        ></iframe>\n",
       "        "
      ],
      "text/plain": [
       "<IPython.lib.display.IFrame at 0x7f62a85a7ac0>"
      ]
     },
     "execution_count": 17,
     "metadata": {},
     "output_type": "execute_result"
    }
   ],
   "source": [
    "#from interactions import draw_interactions\n",
    "import pandas as pd\n",
    "\n",
    "draw_interactions(western_counts, min_prevalence=0.3, repel=2000)"
   ]
  },
  {
   "cell_type": "code",
   "execution_count": 18,
   "id": "cabdc847-461a-4ef9-ae2a-332d9bbd0901",
   "metadata": {},
   "outputs": [
    {
     "data": {
      "text/html": [
       "\n",
       "        <iframe\n",
       "            width=\"960\"\n",
       "            height=\"810\"\n",
       "            src=\"interactions.html\"\n",
       "            frameborder=\"0\"\n",
       "            allowfullscreen\n",
       "            \n",
       "        ></iframe>\n",
       "        "
      ],
      "text/plain": [
       "<IPython.lib.display.IFrame at 0x7f62a852eb20>"
      ]
     },
     "execution_count": 18,
     "metadata": {},
     "output_type": "execute_result"
    }
   ],
   "source": [
    "#from interactions import draw_interactions\n",
    "import pandas as pd\n",
    "\n",
    "draw_interactions(fiber_counts, min_prevalence=0.3, repel=2000)"
   ]
  },
  {
   "cell_type": "code",
   "execution_count": 19,
   "id": "bf146696-9dd4-48a1-87aa-b9246b926ec3",
   "metadata": {},
   "outputs": [
    {
     "data": {
      "text/html": [
       "\n",
       "        <iframe\n",
       "            width=\"960\"\n",
       "            height=\"810\"\n",
       "            src=\"interactions.html\"\n",
       "            frameborder=\"0\"\n",
       "            allowfullscreen\n",
       "            \n",
       "        ></iframe>\n",
       "        "
      ],
      "text/plain": [
       "<IPython.lib.display.IFrame at 0x7f62a852ef40>"
      ]
     },
     "execution_count": 19,
     "metadata": {},
     "output_type": "execute_result"
    }
   ],
   "source": [
    "#from interactions import draw_interactions\n",
    "import pandas as pd\n",
    "\n",
    "draw_interactions(fermented_counts, min_prevalence=0.3, repel=1000)"
   ]
  },
  {
   "cell_type": "code",
   "execution_count": null,
   "id": "7a39f167-fb53-4e15-bc93-895165c5e6d8",
   "metadata": {},
   "outputs": [],
   "source": []
  }
 ],
 "metadata": {
  "kernelspec": {
   "display_name": "Python 3 (ipykernel)",
   "language": "python",
   "name": "python3"
  },
  "language_info": {
   "codemirror_mode": {
    "name": "ipython",
    "version": 3
   },
   "file_extension": ".py",
   "mimetype": "text/x-python",
   "name": "python",
   "nbconvert_exporter": "python",
   "pygments_lexer": "ipython3",
   "version": "3.8.13"
  }
 },
 "nbformat": 4,
 "nbformat_minor": 5
}
